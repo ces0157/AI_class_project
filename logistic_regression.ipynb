{
 "cells": [
  {
   "cell_type": "markdown",
   "metadata": {
    "id": "view-in-github",
    "colab_type": "text"
   },
   "source": [
    "<a href=\"https://colab.research.google.com/github/ces0157/AI_class_project/blob/Sarah/logistic_regression.ipynb\" target=\"_parent\"><img src=\"https://colab.research.google.com/assets/colab-badge.svg\" alt=\"Open In Colab\"/></a>"
   ],
   "id": "b9909d01932bce0e"
  },
  {
   "cell_type": "markdown",
   "source": [
    "# Imports"
   ],
   "metadata": {
    "id": "rymr08RyEs7P"
   },
   "id": "rymr08RyEs7P"
  },
  {
   "cell_type": "code",
   "execution_count": 96,
   "id": "ea5f16cf",
   "metadata": {
    "id": "ea5f16cf",
    "outputId": "e074c367-014d-4134-f209-8d51c5e3e543",
    "colab": {
     "base_uri": "https://localhost:8080/"
    },
    "ExecuteTime": {
     "end_time": "2024-04-18T21:27:27.596282Z",
     "start_time": "2024-04-18T21:27:24.450224Z"
    }
   },
   "outputs": [
    {
     "name": "stdout",
     "output_type": "stream",
     "text": [
      "Requirement already satisfied: scikit-learn in c:\\users\\bingh\\onedrive\\documents\\school\\spring24\\5600\\ai_class_project\\.venv\\lib\\site-packages (1.4.2)\n",
      "Requirement already satisfied: numpy>=1.19.5 in c:\\users\\bingh\\onedrive\\documents\\school\\spring24\\5600\\ai_class_project\\.venv\\lib\\site-packages (from scikit-learn) (1.26.4)\n",
      "Requirement already satisfied: scipy>=1.6.0 in c:\\users\\bingh\\onedrive\\documents\\school\\spring24\\5600\\ai_class_project\\.venv\\lib\\site-packages (from scikit-learn) (1.13.0)\n",
      "Requirement already satisfied: joblib>=1.2.0 in c:\\users\\bingh\\onedrive\\documents\\school\\spring24\\5600\\ai_class_project\\.venv\\lib\\site-packages (from scikit-learn) (1.4.0)\n",
      "Requirement already satisfied: threadpoolctl>=2.0.0 in c:\\users\\bingh\\onedrive\\documents\\school\\spring24\\5600\\ai_class_project\\.venv\\lib\\site-packages (from scikit-learn) (3.4.0)\n",
      "Note: you may need to restart the kernel to use updated packages.\n"
     ]
    },
    {
     "name": "stderr",
     "output_type": "stream",
     "text": [
      "\n",
      "[notice] A new release of pip is available: 23.2.1 -> 24.0\n",
      "[notice] To update, run: python.exe -m pip install --upgrade pip\n"
     ]
    }
   ],
   "source": [
    "pip install scikit-learn"
   ]
  },
  {
   "cell_type": "code",
   "execution_count": 97,
   "id": "74f84d2a",
   "metadata": {
    "id": "74f84d2a",
    "outputId": "433a3375-4f6a-416b-a985-a96d6c5a3e60",
    "colab": {
     "base_uri": "https://localhost:8080/"
    },
    "ExecuteTime": {
     "end_time": "2024-04-18T21:27:30.758073Z",
     "start_time": "2024-04-18T21:27:27.598853Z"
    }
   },
   "outputs": [
    {
     "name": "stdout",
     "output_type": "stream",
     "text": [
      "Requirement already satisfied: datasets in c:\\users\\bingh\\onedrive\\documents\\school\\spring24\\5600\\ai_class_project\\.venv\\lib\\site-packages (2.18.0)\n",
      "Requirement already satisfied: filelock in c:\\users\\bingh\\onedrive\\documents\\school\\spring24\\5600\\ai_class_project\\.venv\\lib\\site-packages (from datasets) (3.13.4)\n",
      "Requirement already satisfied: numpy>=1.17 in c:\\users\\bingh\\onedrive\\documents\\school\\spring24\\5600\\ai_class_project\\.venv\\lib\\site-packages (from datasets) (1.26.4)\n",
      "Requirement already satisfied: pyarrow>=12.0.0 in c:\\users\\bingh\\onedrive\\documents\\school\\spring24\\5600\\ai_class_project\\.venv\\lib\\site-packages (from datasets) (15.0.2)\n",
      "Requirement already satisfied: pyarrow-hotfix in c:\\users\\bingh\\onedrive\\documents\\school\\spring24\\5600\\ai_class_project\\.venv\\lib\\site-packages (from datasets) (0.6)\n",
      "Requirement already satisfied: dill<0.3.9,>=0.3.0 in c:\\users\\bingh\\onedrive\\documents\\school\\spring24\\5600\\ai_class_project\\.venv\\lib\\site-packages (from datasets) (0.3.8)\n",
      "Requirement already satisfied: pandas in c:\\users\\bingh\\onedrive\\documents\\school\\spring24\\5600\\ai_class_project\\.venv\\lib\\site-packages (from datasets) (2.2.2)\n",
      "Requirement already satisfied: requests>=2.19.0 in c:\\users\\bingh\\onedrive\\documents\\school\\spring24\\5600\\ai_class_project\\.venv\\lib\\site-packages (from datasets) (2.31.0)\n",
      "Requirement already satisfied: tqdm>=4.62.1 in c:\\users\\bingh\\onedrive\\documents\\school\\spring24\\5600\\ai_class_project\\.venv\\lib\\site-packages (from datasets) (4.66.2)\n",
      "Requirement already satisfied: xxhash in c:\\users\\bingh\\onedrive\\documents\\school\\spring24\\5600\\ai_class_project\\.venv\\lib\\site-packages (from datasets) (3.4.1)\n",
      "Requirement already satisfied: multiprocess in c:\\users\\bingh\\onedrive\\documents\\school\\spring24\\5600\\ai_class_project\\.venv\\lib\\site-packages (from datasets) (0.70.16)\n",
      "Requirement already satisfied: fsspec[http]<=2024.2.0,>=2023.1.0 in c:\\users\\bingh\\onedrive\\documents\\school\\spring24\\5600\\ai_class_project\\.venv\\lib\\site-packages (from datasets) (2024.2.0)\n",
      "Requirement already satisfied: aiohttp in c:\\users\\bingh\\onedrive\\documents\\school\\spring24\\5600\\ai_class_project\\.venv\\lib\\site-packages (from datasets) (3.9.5)\n",
      "Requirement already satisfied: huggingface-hub>=0.19.4 in c:\\users\\bingh\\onedrive\\documents\\school\\spring24\\5600\\ai_class_project\\.venv\\lib\\site-packages (from datasets) (0.22.2)\n",
      "Requirement already satisfied: packaging in c:\\users\\bingh\\onedrive\\documents\\school\\spring24\\5600\\ai_class_project\\.venv\\lib\\site-packages (from datasets) (24.0)\n",
      "Requirement already satisfied: pyyaml>=5.1 in c:\\users\\bingh\\onedrive\\documents\\school\\spring24\\5600\\ai_class_project\\.venv\\lib\\site-packages (from datasets) (6.0.1)\n",
      "Requirement already satisfied: aiosignal>=1.1.2 in c:\\users\\bingh\\onedrive\\documents\\school\\spring24\\5600\\ai_class_project\\.venv\\lib\\site-packages (from aiohttp->datasets) (1.3.1)\n",
      "Requirement already satisfied: attrs>=17.3.0 in c:\\users\\bingh\\onedrive\\documents\\school\\spring24\\5600\\ai_class_project\\.venv\\lib\\site-packages (from aiohttp->datasets) (23.2.0)\n",
      "Requirement already satisfied: frozenlist>=1.1.1 in c:\\users\\bingh\\onedrive\\documents\\school\\spring24\\5600\\ai_class_project\\.venv\\lib\\site-packages (from aiohttp->datasets) (1.4.1)\n",
      "Requirement already satisfied: multidict<7.0,>=4.5 in c:\\users\\bingh\\onedrive\\documents\\school\\spring24\\5600\\ai_class_project\\.venv\\lib\\site-packages (from aiohttp->datasets) (6.0.5)\n",
      "Requirement already satisfied: yarl<2.0,>=1.0 in c:\\users\\bingh\\onedrive\\documents\\school\\spring24\\5600\\ai_class_project\\.venv\\lib\\site-packages (from aiohttp->datasets) (1.9.4)\n",
      "Requirement already satisfied: typing-extensions>=3.7.4.3 in c:\\users\\bingh\\onedrive\\documents\\school\\spring24\\5600\\ai_class_project\\.venv\\lib\\site-packages (from huggingface-hub>=0.19.4->datasets) (4.11.0)\n",
      "Requirement already satisfied: charset-normalizer<4,>=2 in c:\\users\\bingh\\onedrive\\documents\\school\\spring24\\5600\\ai_class_project\\.venv\\lib\\site-packages (from requests>=2.19.0->datasets) (3.3.2)\n",
      "Requirement already satisfied: idna<4,>=2.5 in c:\\users\\bingh\\onedrive\\documents\\school\\spring24\\5600\\ai_class_project\\.venv\\lib\\site-packages (from requests>=2.19.0->datasets) (3.7)\n",
      "Requirement already satisfied: urllib3<3,>=1.21.1 in c:\\users\\bingh\\onedrive\\documents\\school\\spring24\\5600\\ai_class_project\\.venv\\lib\\site-packages (from requests>=2.19.0->datasets) (2.2.1)\n",
      "Requirement already satisfied: certifi>=2017.4.17 in c:\\users\\bingh\\onedrive\\documents\\school\\spring24\\5600\\ai_class_project\\.venv\\lib\\site-packages (from requests>=2.19.0->datasets) (2024.2.2)\n",
      "Requirement already satisfied: colorama in c:\\users\\bingh\\onedrive\\documents\\school\\spring24\\5600\\ai_class_project\\.venv\\lib\\site-packages (from tqdm>=4.62.1->datasets) (0.4.6)\n",
      "Requirement already satisfied: python-dateutil>=2.8.2 in c:\\users\\bingh\\onedrive\\documents\\school\\spring24\\5600\\ai_class_project\\.venv\\lib\\site-packages (from pandas->datasets) (2.9.0.post0)\n",
      "Requirement already satisfied: pytz>=2020.1 in c:\\users\\bingh\\onedrive\\documents\\school\\spring24\\5600\\ai_class_project\\.venv\\lib\\site-packages (from pandas->datasets) (2024.1)\n",
      "Requirement already satisfied: tzdata>=2022.7 in c:\\users\\bingh\\onedrive\\documents\\school\\spring24\\5600\\ai_class_project\\.venv\\lib\\site-packages (from pandas->datasets) (2024.1)\n",
      "Requirement already satisfied: six>=1.5 in c:\\users\\bingh\\onedrive\\documents\\school\\spring24\\5600\\ai_class_project\\.venv\\lib\\site-packages (from python-dateutil>=2.8.2->pandas->datasets) (1.16.0)\n",
      "Note: you may need to restart the kernel to use updated packages.\n"
     ]
    },
    {
     "name": "stderr",
     "output_type": "stream",
     "text": [
      "\n",
      "[notice] A new release of pip is available: 23.2.1 -> 24.0\n",
      "[notice] To update, run: python.exe -m pip install --upgrade pip\n"
     ]
    }
   ],
   "source": [
    "pip install datasets"
   ]
  },
  {
   "cell_type": "code",
   "source": [
    "pip install nltk"
   ],
   "metadata": {
    "id": "zNWGNrh-K2kL",
    "colab": {
     "base_uri": "https://localhost:8080/"
    },
    "outputId": "7b3bf3b1-d474-42f3-c425-b7681e807fdb",
    "ExecuteTime": {
     "end_time": "2024-04-18T21:27:33.249517Z",
     "start_time": "2024-04-18T21:27:30.759144Z"
    }
   },
   "id": "zNWGNrh-K2kL",
   "execution_count": 98,
   "outputs": [
    {
     "name": "stdout",
     "output_type": "stream",
     "text": [
      "Note: you may need to restart the kernel to use updated packages.\n",
      "Requirement already satisfied: nltk in c:\\users\\bingh\\onedrive\\documents\\school\\spring24\\5600\\ai_class_project\\.venv\\lib\\site-packages (3.8.1)\n",
      "Requirement already satisfied: click in c:\\users\\bingh\\onedrive\\documents\\school\\spring24\\5600\\ai_class_project\\.venv\\lib\\site-packages (from nltk) (8.1.7)\n",
      "Requirement already satisfied: joblib in c:\\users\\bingh\\onedrive\\documents\\school\\spring24\\5600\\ai_class_project\\.venv\\lib\\site-packages (from nltk) (1.4.0)\n",
      "Requirement already satisfied: regex>=2021.8.3 in c:\\users\\bingh\\onedrive\\documents\\school\\spring24\\5600\\ai_class_project\\.venv\\lib\\site-packages (from nltk) (2024.4.16)\n",
      "Requirement already satisfied: tqdm in c:\\users\\bingh\\onedrive\\documents\\school\\spring24\\5600\\ai_class_project\\.venv\\lib\\site-packages (from nltk) (4.66.2)\n",
      "Requirement already satisfied: colorama in c:\\users\\bingh\\onedrive\\documents\\school\\spring24\\5600\\ai_class_project\\.venv\\lib\\site-packages (from click->nltk) (0.4.6)\n"
     ]
    },
    {
     "name": "stderr",
     "output_type": "stream",
     "text": [
      "\n",
      "[notice] A new release of pip is available: 23.2.1 -> 24.0\n",
      "[notice] To update, run: python.exe -m pip install --upgrade pip\n"
     ]
    }
   ]
  },
  {
   "cell_type": "code",
   "execution_count": 99,
   "id": "6f7760c6",
   "metadata": {
    "id": "6f7760c6",
    "colab": {
     "base_uri": "https://localhost:8080/"
    },
    "outputId": "faefa337-0ed0-44fa-ce83-b053428fe5a5",
    "ExecuteTime": {
     "end_time": "2024-04-18T21:27:33.259016Z",
     "start_time": "2024-04-18T21:27:33.251586Z"
    }
   },
   "outputs": [
    {
     "name": "stderr",
     "output_type": "stream",
     "text": [
      "[nltk_data] Downloading package stopwords to\n",
      "[nltk_data]     C:\\Users\\bingh\\AppData\\Roaming\\nltk_data...\n",
      "[nltk_data]   Package stopwords is already up-to-date!\n"
     ]
    },
    {
     "data": {
      "text/plain": "True"
     },
     "execution_count": 99,
     "metadata": {},
     "output_type": "execute_result"
    }
   ],
   "source": [
    "#all nesseccary import statements\n",
    "from datasets import load_dataset\n",
    "import pandas as pd\n",
    "import numpy as np\n",
    "from sklearn.feature_extraction.text import CountVectorizer, TfidfVectorizer\n",
    "from sklearn.linear_model import LogisticRegression\n",
    "from sklearn.metrics import classification_report\n",
    "from sklearn.metrics import confusion_matrix, ConfusionMatrixDisplay\n",
    "import nltk\n",
    "from nltk.corpus import stopwords\n",
    "nltk.download('stopwords')"
   ]
  },
  {
   "cell_type": "markdown",
   "source": [
    "# Load Dataset"
   ],
   "metadata": {
    "id": "qExYOvL_EwKz"
   },
   "id": "qExYOvL_EwKz"
  },
  {
   "cell_type": "code",
   "execution_count": 100,
   "id": "67603e72",
   "metadata": {
    "id": "67603e72",
    "outputId": "2ed5b4e1-7a5d-4abb-bc0f-2800a9f3a1ea",
    "colab": {
     "base_uri": "https://localhost:8080/"
    },
    "ExecuteTime": {
     "end_time": "2024-04-18T21:27:42.658432Z",
     "start_time": "2024-04-18T21:27:33.260079Z"
    }
   },
   "outputs": [],
   "source": [
    "#load the dataset and split into testing and training\n",
    "dataset = load_dataset(\"yelp_review_full\")\n",
    "dp_train = dataset['train'].to_pandas()\n",
    "dp_test = dataset['test'].to_pandas()"
   ]
  },
  {
   "cell_type": "code",
   "execution_count": 101,
   "id": "64fcf779",
   "metadata": {
    "id": "64fcf779",
    "outputId": "a260393d-4990-4260-ed33-cfd1e17ee192",
    "colab": {
     "base_uri": "https://localhost:8080/",
     "height": 423
    },
    "ExecuteTime": {
     "end_time": "2024-04-18T21:27:42.669173Z",
     "start_time": "2024-04-18T21:27:42.659570Z"
    }
   },
   "outputs": [
    {
     "data": {
      "text/plain": "        label                                               text\n0           4  dr. goldberg offers everything i look for in a...\n1           1  Unfortunately, the frustration of being Dr. Go...\n2           3  Been going to Dr. Goldberg for over 10 years. ...\n3           3  Got a letter in the mail last week that said D...\n4           0  I don't know what Dr. Goldberg was like before...\n...       ...                                                ...\n649995      4  I had a sprinkler that was gushing... pipe bro...\n649996      0  Phone calls always go to voicemail and message...\n649997      0  Looks like all of the good reviews have gone t...\n649998      4  I was able to once again rely on Yelp to provi...\n649999      0  I have been using this company for 11 months. ...\n\n[650000 rows x 2 columns]",
      "text/html": "<div>\n<style scoped>\n    .dataframe tbody tr th:only-of-type {\n        vertical-align: middle;\n    }\n\n    .dataframe tbody tr th {\n        vertical-align: top;\n    }\n\n    .dataframe thead th {\n        text-align: right;\n    }\n</style>\n<table border=\"1\" class=\"dataframe\">\n  <thead>\n    <tr style=\"text-align: right;\">\n      <th></th>\n      <th>label</th>\n      <th>text</th>\n    </tr>\n  </thead>\n  <tbody>\n    <tr>\n      <th>0</th>\n      <td>4</td>\n      <td>dr. goldberg offers everything i look for in a...</td>\n    </tr>\n    <tr>\n      <th>1</th>\n      <td>1</td>\n      <td>Unfortunately, the frustration of being Dr. Go...</td>\n    </tr>\n    <tr>\n      <th>2</th>\n      <td>3</td>\n      <td>Been going to Dr. Goldberg for over 10 years. ...</td>\n    </tr>\n    <tr>\n      <th>3</th>\n      <td>3</td>\n      <td>Got a letter in the mail last week that said D...</td>\n    </tr>\n    <tr>\n      <th>4</th>\n      <td>0</td>\n      <td>I don't know what Dr. Goldberg was like before...</td>\n    </tr>\n    <tr>\n      <th>...</th>\n      <td>...</td>\n      <td>...</td>\n    </tr>\n    <tr>\n      <th>649995</th>\n      <td>4</td>\n      <td>I had a sprinkler that was gushing... pipe bro...</td>\n    </tr>\n    <tr>\n      <th>649996</th>\n      <td>0</td>\n      <td>Phone calls always go to voicemail and message...</td>\n    </tr>\n    <tr>\n      <th>649997</th>\n      <td>0</td>\n      <td>Looks like all of the good reviews have gone t...</td>\n    </tr>\n    <tr>\n      <th>649998</th>\n      <td>4</td>\n      <td>I was able to once again rely on Yelp to provi...</td>\n    </tr>\n    <tr>\n      <th>649999</th>\n      <td>0</td>\n      <td>I have been using this company for 11 months. ...</td>\n    </tr>\n  </tbody>\n</table>\n<p>650000 rows × 2 columns</p>\n</div>"
     },
     "execution_count": 101,
     "metadata": {},
     "output_type": "execute_result"
    }
   ],
   "source": [
    "dp_train"
   ]
  },
  {
   "cell_type": "markdown",
   "source": [
    "# Functions"
   ],
   "metadata": {
    "id": "m_M-2EyrEzho"
   },
   "id": "m_M-2EyrEzho"
  },
  {
   "cell_type": "code",
   "source": [
    "# Creates a count vectorizer with vocab from training data\n",
    "def create_vectorizer(train_df, column_text):\n",
    "    sentences = train_df[column_text].values\n",
    "    # vectorizer = CountVectorizer()  # add stop words here instead?\n",
    "    vectorizer = TfidfVectorizer(min_df=2, ngram_range=(1, 2))\n",
    "    \n",
    "    df = train_df.drop(columns=[column_text])\n",
    "\n",
    "    # fit the vocabulary to the text data\n",
    "    vectorizer.fit(sentences)\n",
    "    print(f'Vocab length: {len(vectorizer.vocabulary_.keys())}')\n",
    "\n",
    "    return vectorizer"
   ],
   "metadata": {
    "id": "GXm3ZUPeEgzA",
    "ExecuteTime": {
     "end_time": "2024-04-18T21:27:42.677980Z",
     "start_time": "2024-04-18T21:27:42.670301Z"
    }
   },
   "id": "GXm3ZUPeEgzA",
   "execution_count": 102,
   "outputs": []
  },
  {
   "cell_type": "code",
   "execution_count": 103,
   "id": "fbfe93ce",
   "metadata": {
    "id": "fbfe93ce",
    "ExecuteTime": {
     "end_time": "2024-04-18T21:27:42.683995Z",
     "start_time": "2024-04-18T21:27:42.679049Z"
    }
   },
   "outputs": [],
   "source": [
    "# Passes in dataframe column, converts it a numpy array\n",
    "# and performs the bag of word algorithm on it using vocab from training data\n",
    "# Returns a sparse matrix\n",
    "def create_bag_words(df, vectorizer, column_text):\n",
    "    sentences = df[column_text].values\n",
    "    df = df.drop(columns=[column_text])\n",
    "\n",
    "    # create the bag-of-words model using previously-created vectorizer\n",
    "    X = vectorizer.transform(sentences)\n",
    "\n",
    "    return X"
   ]
  },
  {
   "cell_type": "markdown",
   "source": [
    "# Train Data"
   ],
   "metadata": {
    "id": "sYLu_4Z6EWQ_"
   },
   "id": "sYLu_4Z6EWQ_"
  },
  {
   "cell_type": "code",
   "execution_count": 104,
   "id": "57ef0f57",
   "metadata": {
    "id": "57ef0f57",
    "ExecuteTime": {
     "end_time": "2024-04-18T21:27:42.690263Z",
     "start_time": "2024-04-18T21:27:42.685078Z"
    }
   },
   "outputs": [],
   "source": [
    "y_train = dp_train[\"label\"].values"
   ]
  },
  {
   "cell_type": "code",
   "source": [
    "stop_words = set(stopwords.words('english'))\n",
    "\n",
    "# Removes stop words from training data and makes everything lowercase\n",
    "dp_train['no_stops'] = dp_train['text'].apply(lambda x: ' '.join([word for word in x.split() if word not in (stop_words)]))\n",
    "dp_train['no_stops'] = dp_train['no_stops'].str.lower()"
   ],
   "metadata": {
    "id": "S-GLaQXTJ09y",
    "ExecuteTime": {
     "end_time": "2024-04-18T21:27:56.322940Z",
     "start_time": "2024-04-18T21:27:42.694533Z"
    }
   },
   "id": "S-GLaQXTJ09y",
   "execution_count": 105,
   "outputs": []
  },
  {
   "cell_type": "code",
   "execution_count": 106,
   "id": "ead552ea",
   "metadata": {
    "id": "ead552ea",
    "ExecuteTime": {
     "end_time": "2024-04-18T21:33:00.748651Z",
     "start_time": "2024-04-18T21:27:56.323944Z"
    }
   },
   "outputs": [
    {
     "name": "stdout",
     "output_type": "stream",
     "text": [
      "Vocab length: 3597595\n"
     ]
    }
   ],
   "source": [
    "# create vectorizer consisting of vocab from training data\n",
    "vectorizer = create_vectorizer(dp_train, \"no_stops\")\n",
    "\n",
    "# Creates a set of new features modified to be a bag of words\n",
    "X_fetaures_train = create_bag_words(dp_train, vectorizer, \"no_stops\")"
   ]
  },
  {
   "cell_type": "code",
   "source": [
    "print(X_fetaures_train.shape)"
   ],
   "metadata": {
    "colab": {
     "base_uri": "https://localhost:8080/"
    },
    "id": "djzg8jSnRh2A",
    "outputId": "096ba59b-4bb0-4d23-9545-99adddff79da",
    "ExecuteTime": {
     "end_time": "2024-04-18T21:33:00.758261Z",
     "start_time": "2024-04-18T21:33:00.750968Z"
    }
   },
   "id": "djzg8jSnRh2A",
   "execution_count": 107,
   "outputs": [
    {
     "name": "stdout",
     "output_type": "stream",
     "text": [
      "(650000, 3597595)\n"
     ]
    }
   ]
  },
  {
   "cell_type": "code",
   "execution_count": 108,
   "id": "614fc9ed",
   "metadata": {
    "id": "614fc9ed",
    "colab": {
     "base_uri": "https://localhost:8080/",
     "height": 74
    },
    "outputId": "a0dd8162-a377-4e37-9a55-cdcf48d8eff0",
    "ExecuteTime": {
     "end_time": "2024-04-18T22:03:25.966850Z",
     "start_time": "2024-04-18T21:33:00.760636Z"
    }
   },
   "outputs": [
    {
     "data": {
      "text/plain": "LogisticRegression(max_iter=10000)",
      "text/html": "<style>#sk-container-id-6 {\n  /* Definition of color scheme common for light and dark mode */\n  --sklearn-color-text: black;\n  --sklearn-color-line: gray;\n  /* Definition of color scheme for unfitted estimators */\n  --sklearn-color-unfitted-level-0: #fff5e6;\n  --sklearn-color-unfitted-level-1: #f6e4d2;\n  --sklearn-color-unfitted-level-2: #ffe0b3;\n  --sklearn-color-unfitted-level-3: chocolate;\n  /* Definition of color scheme for fitted estimators */\n  --sklearn-color-fitted-level-0: #f0f8ff;\n  --sklearn-color-fitted-level-1: #d4ebff;\n  --sklearn-color-fitted-level-2: #b3dbfd;\n  --sklearn-color-fitted-level-3: cornflowerblue;\n\n  /* Specific color for light theme */\n  --sklearn-color-text-on-default-background: var(--sg-text-color, var(--theme-code-foreground, var(--jp-content-font-color1, black)));\n  --sklearn-color-background: var(--sg-background-color, var(--theme-background, var(--jp-layout-color0, white)));\n  --sklearn-color-border-box: var(--sg-text-color, var(--theme-code-foreground, var(--jp-content-font-color1, black)));\n  --sklearn-color-icon: #696969;\n\n  @media (prefers-color-scheme: dark) {\n    /* Redefinition of color scheme for dark theme */\n    --sklearn-color-text-on-default-background: var(--sg-text-color, var(--theme-code-foreground, var(--jp-content-font-color1, white)));\n    --sklearn-color-background: var(--sg-background-color, var(--theme-background, var(--jp-layout-color0, #111)));\n    --sklearn-color-border-box: var(--sg-text-color, var(--theme-code-foreground, var(--jp-content-font-color1, white)));\n    --sklearn-color-icon: #878787;\n  }\n}\n\n#sk-container-id-6 {\n  color: var(--sklearn-color-text);\n}\n\n#sk-container-id-6 pre {\n  padding: 0;\n}\n\n#sk-container-id-6 input.sk-hidden--visually {\n  border: 0;\n  clip: rect(1px 1px 1px 1px);\n  clip: rect(1px, 1px, 1px, 1px);\n  height: 1px;\n  margin: -1px;\n  overflow: hidden;\n  padding: 0;\n  position: absolute;\n  width: 1px;\n}\n\n#sk-container-id-6 div.sk-dashed-wrapped {\n  border: 1px dashed var(--sklearn-color-line);\n  margin: 0 0.4em 0.5em 0.4em;\n  box-sizing: border-box;\n  padding-bottom: 0.4em;\n  background-color: var(--sklearn-color-background);\n}\n\n#sk-container-id-6 div.sk-container {\n  /* jupyter's `normalize.less` sets `[hidden] { display: none; }`\n     but bootstrap.min.css set `[hidden] { display: none !important; }`\n     so we also need the `!important` here to be able to override the\n     default hidden behavior on the sphinx rendered scikit-learn.org.\n     See: https://github.com/scikit-learn/scikit-learn/issues/21755 */\n  display: inline-block !important;\n  position: relative;\n}\n\n#sk-container-id-6 div.sk-text-repr-fallback {\n  display: none;\n}\n\ndiv.sk-parallel-item,\ndiv.sk-serial,\ndiv.sk-item {\n  /* draw centered vertical line to link estimators */\n  background-image: linear-gradient(var(--sklearn-color-text-on-default-background), var(--sklearn-color-text-on-default-background));\n  background-size: 2px 100%;\n  background-repeat: no-repeat;\n  background-position: center center;\n}\n\n/* Parallel-specific style estimator block */\n\n#sk-container-id-6 div.sk-parallel-item::after {\n  content: \"\";\n  width: 100%;\n  border-bottom: 2px solid var(--sklearn-color-text-on-default-background);\n  flex-grow: 1;\n}\n\n#sk-container-id-6 div.sk-parallel {\n  display: flex;\n  align-items: stretch;\n  justify-content: center;\n  background-color: var(--sklearn-color-background);\n  position: relative;\n}\n\n#sk-container-id-6 div.sk-parallel-item {\n  display: flex;\n  flex-direction: column;\n}\n\n#sk-container-id-6 div.sk-parallel-item:first-child::after {\n  align-self: flex-end;\n  width: 50%;\n}\n\n#sk-container-id-6 div.sk-parallel-item:last-child::after {\n  align-self: flex-start;\n  width: 50%;\n}\n\n#sk-container-id-6 div.sk-parallel-item:only-child::after {\n  width: 0;\n}\n\n/* Serial-specific style estimator block */\n\n#sk-container-id-6 div.sk-serial {\n  display: flex;\n  flex-direction: column;\n  align-items: center;\n  background-color: var(--sklearn-color-background);\n  padding-right: 1em;\n  padding-left: 1em;\n}\n\n\n/* Toggleable style: style used for estimator/Pipeline/ColumnTransformer box that is\nclickable and can be expanded/collapsed.\n- Pipeline and ColumnTransformer use this feature and define the default style\n- Estimators will overwrite some part of the style using the `sk-estimator` class\n*/\n\n/* Pipeline and ColumnTransformer style (default) */\n\n#sk-container-id-6 div.sk-toggleable {\n  /* Default theme specific background. It is overwritten whether we have a\n  specific estimator or a Pipeline/ColumnTransformer */\n  background-color: var(--sklearn-color-background);\n}\n\n/* Toggleable label */\n#sk-container-id-6 label.sk-toggleable__label {\n  cursor: pointer;\n  display: block;\n  width: 100%;\n  margin-bottom: 0;\n  padding: 0.5em;\n  box-sizing: border-box;\n  text-align: center;\n}\n\n#sk-container-id-6 label.sk-toggleable__label-arrow:before {\n  /* Arrow on the left of the label */\n  content: \"▸\";\n  float: left;\n  margin-right: 0.25em;\n  color: var(--sklearn-color-icon);\n}\n\n#sk-container-id-6 label.sk-toggleable__label-arrow:hover:before {\n  color: var(--sklearn-color-text);\n}\n\n/* Toggleable content - dropdown */\n\n#sk-container-id-6 div.sk-toggleable__content {\n  max-height: 0;\n  max-width: 0;\n  overflow: hidden;\n  text-align: left;\n  /* unfitted */\n  background-color: var(--sklearn-color-unfitted-level-0);\n}\n\n#sk-container-id-6 div.sk-toggleable__content.fitted {\n  /* fitted */\n  background-color: var(--sklearn-color-fitted-level-0);\n}\n\n#sk-container-id-6 div.sk-toggleable__content pre {\n  margin: 0.2em;\n  border-radius: 0.25em;\n  color: var(--sklearn-color-text);\n  /* unfitted */\n  background-color: var(--sklearn-color-unfitted-level-0);\n}\n\n#sk-container-id-6 div.sk-toggleable__content.fitted pre {\n  /* unfitted */\n  background-color: var(--sklearn-color-fitted-level-0);\n}\n\n#sk-container-id-6 input.sk-toggleable__control:checked~div.sk-toggleable__content {\n  /* Expand drop-down */\n  max-height: 200px;\n  max-width: 100%;\n  overflow: auto;\n}\n\n#sk-container-id-6 input.sk-toggleable__control:checked~label.sk-toggleable__label-arrow:before {\n  content: \"▾\";\n}\n\n/* Pipeline/ColumnTransformer-specific style */\n\n#sk-container-id-6 div.sk-label input.sk-toggleable__control:checked~label.sk-toggleable__label {\n  color: var(--sklearn-color-text);\n  background-color: var(--sklearn-color-unfitted-level-2);\n}\n\n#sk-container-id-6 div.sk-label.fitted input.sk-toggleable__control:checked~label.sk-toggleable__label {\n  background-color: var(--sklearn-color-fitted-level-2);\n}\n\n/* Estimator-specific style */\n\n/* Colorize estimator box */\n#sk-container-id-6 div.sk-estimator input.sk-toggleable__control:checked~label.sk-toggleable__label {\n  /* unfitted */\n  background-color: var(--sklearn-color-unfitted-level-2);\n}\n\n#sk-container-id-6 div.sk-estimator.fitted input.sk-toggleable__control:checked~label.sk-toggleable__label {\n  /* fitted */\n  background-color: var(--sklearn-color-fitted-level-2);\n}\n\n#sk-container-id-6 div.sk-label label.sk-toggleable__label,\n#sk-container-id-6 div.sk-label label {\n  /* The background is the default theme color */\n  color: var(--sklearn-color-text-on-default-background);\n}\n\n/* On hover, darken the color of the background */\n#sk-container-id-6 div.sk-label:hover label.sk-toggleable__label {\n  color: var(--sklearn-color-text);\n  background-color: var(--sklearn-color-unfitted-level-2);\n}\n\n/* Label box, darken color on hover, fitted */\n#sk-container-id-6 div.sk-label.fitted:hover label.sk-toggleable__label.fitted {\n  color: var(--sklearn-color-text);\n  background-color: var(--sklearn-color-fitted-level-2);\n}\n\n/* Estimator label */\n\n#sk-container-id-6 div.sk-label label {\n  font-family: monospace;\n  font-weight: bold;\n  display: inline-block;\n  line-height: 1.2em;\n}\n\n#sk-container-id-6 div.sk-label-container {\n  text-align: center;\n}\n\n/* Estimator-specific */\n#sk-container-id-6 div.sk-estimator {\n  font-family: monospace;\n  border: 1px dotted var(--sklearn-color-border-box);\n  border-radius: 0.25em;\n  box-sizing: border-box;\n  margin-bottom: 0.5em;\n  /* unfitted */\n  background-color: var(--sklearn-color-unfitted-level-0);\n}\n\n#sk-container-id-6 div.sk-estimator.fitted {\n  /* fitted */\n  background-color: var(--sklearn-color-fitted-level-0);\n}\n\n/* on hover */\n#sk-container-id-6 div.sk-estimator:hover {\n  /* unfitted */\n  background-color: var(--sklearn-color-unfitted-level-2);\n}\n\n#sk-container-id-6 div.sk-estimator.fitted:hover {\n  /* fitted */\n  background-color: var(--sklearn-color-fitted-level-2);\n}\n\n/* Specification for estimator info (e.g. \"i\" and \"?\") */\n\n/* Common style for \"i\" and \"?\" */\n\n.sk-estimator-doc-link,\na:link.sk-estimator-doc-link,\na:visited.sk-estimator-doc-link {\n  float: right;\n  font-size: smaller;\n  line-height: 1em;\n  font-family: monospace;\n  background-color: var(--sklearn-color-background);\n  border-radius: 1em;\n  height: 1em;\n  width: 1em;\n  text-decoration: none !important;\n  margin-left: 1ex;\n  /* unfitted */\n  border: var(--sklearn-color-unfitted-level-1) 1pt solid;\n  color: var(--sklearn-color-unfitted-level-1);\n}\n\n.sk-estimator-doc-link.fitted,\na:link.sk-estimator-doc-link.fitted,\na:visited.sk-estimator-doc-link.fitted {\n  /* fitted */\n  border: var(--sklearn-color-fitted-level-1) 1pt solid;\n  color: var(--sklearn-color-fitted-level-1);\n}\n\n/* On hover */\ndiv.sk-estimator:hover .sk-estimator-doc-link:hover,\n.sk-estimator-doc-link:hover,\ndiv.sk-label-container:hover .sk-estimator-doc-link:hover,\n.sk-estimator-doc-link:hover {\n  /* unfitted */\n  background-color: var(--sklearn-color-unfitted-level-3);\n  color: var(--sklearn-color-background);\n  text-decoration: none;\n}\n\ndiv.sk-estimator.fitted:hover .sk-estimator-doc-link.fitted:hover,\n.sk-estimator-doc-link.fitted:hover,\ndiv.sk-label-container:hover .sk-estimator-doc-link.fitted:hover,\n.sk-estimator-doc-link.fitted:hover {\n  /* fitted */\n  background-color: var(--sklearn-color-fitted-level-3);\n  color: var(--sklearn-color-background);\n  text-decoration: none;\n}\n\n/* Span, style for the box shown on hovering the info icon */\n.sk-estimator-doc-link span {\n  display: none;\n  z-index: 9999;\n  position: relative;\n  font-weight: normal;\n  right: .2ex;\n  padding: .5ex;\n  margin: .5ex;\n  width: min-content;\n  min-width: 20ex;\n  max-width: 50ex;\n  color: var(--sklearn-color-text);\n  box-shadow: 2pt 2pt 4pt #999;\n  /* unfitted */\n  background: var(--sklearn-color-unfitted-level-0);\n  border: .5pt solid var(--sklearn-color-unfitted-level-3);\n}\n\n.sk-estimator-doc-link.fitted span {\n  /* fitted */\n  background: var(--sklearn-color-fitted-level-0);\n  border: var(--sklearn-color-fitted-level-3);\n}\n\n.sk-estimator-doc-link:hover span {\n  display: block;\n}\n\n/* \"?\"-specific style due to the `<a>` HTML tag */\n\n#sk-container-id-6 a.estimator_doc_link {\n  float: right;\n  font-size: 1rem;\n  line-height: 1em;\n  font-family: monospace;\n  background-color: var(--sklearn-color-background);\n  border-radius: 1rem;\n  height: 1rem;\n  width: 1rem;\n  text-decoration: none;\n  /* unfitted */\n  color: var(--sklearn-color-unfitted-level-1);\n  border: var(--sklearn-color-unfitted-level-1) 1pt solid;\n}\n\n#sk-container-id-6 a.estimator_doc_link.fitted {\n  /* fitted */\n  border: var(--sklearn-color-fitted-level-1) 1pt solid;\n  color: var(--sklearn-color-fitted-level-1);\n}\n\n/* On hover */\n#sk-container-id-6 a.estimator_doc_link:hover {\n  /* unfitted */\n  background-color: var(--sklearn-color-unfitted-level-3);\n  color: var(--sklearn-color-background);\n  text-decoration: none;\n}\n\n#sk-container-id-6 a.estimator_doc_link.fitted:hover {\n  /* fitted */\n  background-color: var(--sklearn-color-fitted-level-3);\n}\n</style><div id=\"sk-container-id-6\" class=\"sk-top-container\"><div class=\"sk-text-repr-fallback\"><pre>LogisticRegression(max_iter=10000)</pre><b>In a Jupyter environment, please rerun this cell to show the HTML representation or trust the notebook. <br />On GitHub, the HTML representation is unable to render, please try loading this page with nbviewer.org.</b></div><div class=\"sk-container\" hidden><div class=\"sk-item\"><div class=\"sk-estimator fitted sk-toggleable\"><input class=\"sk-toggleable__control sk-hidden--visually\" id=\"sk-estimator-id-6\" type=\"checkbox\" checked><label for=\"sk-estimator-id-6\" class=\"sk-toggleable__label fitted sk-toggleable__label-arrow fitted\">&nbsp;&nbsp;LogisticRegression<a class=\"sk-estimator-doc-link fitted\" rel=\"noreferrer\" target=\"_blank\" href=\"https://scikit-learn.org/1.4/modules/generated/sklearn.linear_model.LogisticRegression.html\">?<span>Documentation for LogisticRegression</span></a><span class=\"sk-estimator-doc-link fitted\">i<span>Fitted</span></span></label><div class=\"sk-toggleable__content fitted\"><pre>LogisticRegression(max_iter=10000)</pre></div> </div></div></div></div>"
     },
     "execution_count": 108,
     "metadata": {},
     "output_type": "execute_result"
    }
   ],
   "source": [
    "# Preforms Logistic Regression on the dataset\n",
    "lgr = LogisticRegression(max_iter=10000)\n",
    "lgr.fit(X_fetaures_train, y_train)"
   ]
  },
  {
   "cell_type": "code",
   "execution_count": 109,
   "id": "965737e2",
   "metadata": {
    "id": "965737e2",
    "colab": {
     "base_uri": "https://localhost:8080/"
    },
    "outputId": "85a331dc-5ec5-4188-9ad9-6f7d18f2a954",
    "ExecuteTime": {
     "end_time": "2024-04-18T22:03:29.695838Z",
     "start_time": "2024-04-18T22:03:25.991915Z"
    }
   },
   "outputs": [
    {
     "name": "stdout",
     "output_type": "stream",
     "text": [
      "              precision    recall  f1-score   support\n",
      "\n",
      "           0       0.88      0.84      0.86    135465\n",
      "           1       0.77      0.79      0.78    127583\n",
      "           2       0.76      0.79      0.77    125451\n",
      "           3       0.77      0.78      0.77    128452\n",
      "           4       0.86      0.84      0.85    133049\n",
      "\n",
      "    accuracy                           0.81    650000\n",
      "   macro avg       0.81      0.81      0.81    650000\n",
      "weighted avg       0.81      0.81      0.81    650000\n"
     ]
    }
   ],
   "source": [
    "# Training on the prediction\n",
    "predict_train = lgr.predict(X_fetaures_train)\n",
    "print(classification_report(predict_train, y_train))"
   ]
  },
  {
   "cell_type": "code",
   "execution_count": 110,
   "id": "79c5a1b0",
   "metadata": {
    "id": "79c5a1b0",
    "colab": {
     "base_uri": "https://localhost:8080/",
     "height": 466
    },
    "outputId": "8e156aeb-8c93-4e36-f6a5-a8a845e0ab62",
    "ExecuteTime": {
     "end_time": "2024-04-18T22:03:35.514958Z",
     "start_time": "2024-04-18T22:03:29.701180Z"
    }
   },
   "outputs": [
    {
     "data": {
      "text/plain": "<sklearn.metrics._plot.confusion_matrix.ConfusionMatrixDisplay at 0x2793d959d00>"
     },
     "execution_count": 110,
     "metadata": {},
     "output_type": "execute_result"
    },
    {
     "data": {
      "text/plain": "<Figure size 640x480 with 2 Axes>",
      "image/png": "[encoded data removed]"
     },
     "metadata": {},
     "output_type": "display_data"
    }
   ],
   "source": [
    "# Displays a confusion matrix based on the predicted vs actual values\n",
    "cm = confusion_matrix(y_train, predict_train)\n",
    "ConfusionMatrixDisplay(cm).plot()"
   ]
  },
  {
   "cell_type": "markdown",
   "source": [
    "# Test Data"
   ],
   "metadata": {
    "id": "vNNL84WHESgF"
   },
   "id": "vNNL84WHESgF"
  },
  {
   "cell_type": "code",
   "execution_count": 111,
   "id": "2446e8e7",
   "metadata": {
    "id": "2446e8e7",
    "ExecuteTime": {
     "end_time": "2024-04-18T22:03:35.563681Z",
     "start_time": "2024-04-18T22:03:35.518322Z"
    }
   },
   "outputs": [],
   "source": [
    "y_test = dp_test[\"label\"].values"
   ]
  },
  {
   "cell_type": "code",
   "source": [
    "# Removes stop words from test data and makes everything lowercase\n",
    "dp_test['no_stops'] = dp_test['text'].apply(lambda x: ' '.join([word for word in x.split() if word not in (stop_words)]))\n",
    "dp_test['no_stops'] = dp_test['no_stops'].str.lower()"
   ],
   "metadata": {
    "id": "onnvHHFdFPXP",
    "ExecuteTime": {
     "end_time": "2024-04-18T22:03:37.959257Z",
     "start_time": "2024-04-18T22:03:35.568404Z"
    }
   },
   "id": "onnvHHFdFPXP",
   "execution_count": 112,
   "outputs": []
  },
  {
   "cell_type": "code",
   "source": [
    "# Creates a set of new features modified to be a bag of words using same training vectorizer (don't have to reformat testing!)\n",
    "X_features_test = create_bag_words(dp_test, vectorizer, \"no_stops\")"
   ],
   "metadata": {
    "id": "HHeXz1E8Ls1K",
    "ExecuteTime": {
     "end_time": "2024-04-18T22:03:51.339374Z",
     "start_time": "2024-04-18T22:03:37.964823Z"
    }
   },
   "id": "HHeXz1E8Ls1K",
   "execution_count": 113,
   "outputs": []
  },
  {
   "cell_type": "code",
   "source": [
    "# Gets label predictions from test data and printing results\n",
    "predict_test = lgr.predict(X_features_test)\n",
    "print(classification_report(predict_test, y_test))"
   ],
   "metadata": {
    "colab": {
     "base_uri": "https://localhost:8080/"
    },
    "id": "rtAN9UweFRPS",
    "outputId": "a59eda9f-2f6e-49c3-b27f-152ef77e91e2",
    "ExecuteTime": {
     "end_time": "2024-04-18T22:03:51.703856Z",
     "start_time": "2024-04-18T22:03:51.342971Z"
    }
   },
   "id": "rtAN9UweFRPS",
   "execution_count": 114,
   "outputs": [
    {
     "name": "stdout",
     "output_type": "stream",
     "text": [
      "              precision    recall  f1-score   support\n",
      "\n",
      "           0       0.77      0.72      0.74     10610\n",
      "           1       0.54      0.56      0.55      9628\n",
      "           2       0.53      0.55      0.54      9659\n",
      "           3       0.52      0.53      0.53      9847\n",
      "           4       0.71      0.69      0.70     10256\n",
      "\n",
      "    accuracy                           0.61     50000\n",
      "   macro avg       0.61      0.61      0.61     50000\n",
      "weighted avg       0.62      0.61      0.62     50000\n"
     ]
    }
   ]
  },
  {
   "cell_type": "code",
   "source": [
    "# Displays a confusion matrix based on the predicted vs actual values\n",
    "cm = confusion_matrix(y_test, predict_test)\n",
    "ConfusionMatrixDisplay(cm).plot()"
   ],
   "metadata": {
    "colab": {
     "base_uri": "https://localhost:8080/",
     "height": 466
    },
    "id": "9Rp8-GSdGw4g",
    "outputId": "86d78641-fe97-42a6-b546-40dd017dc4ee",
    "ExecuteTime": {
     "end_time": "2024-04-18T22:03:52.100956Z",
     "start_time": "2024-04-18T22:03:51.705930Z"
    }
   },
   "id": "9Rp8-GSdGw4g",
   "execution_count": 115,
   "outputs": [
    {
     "data": {
      "text/plain": "<sklearn.metrics._plot.confusion_matrix.ConfusionMatrixDisplay at 0x27a27a85df0>"
     },
     "execution_count": 115,
     "metadata": {},
     "output_type": "execute_result"
    },
    {
     "data": {
      "text/plain": "<Figure size 640x480 with 2 Axes>",
      "image/png": "[encoded data removed]"
     },
     "metadata": {},
     "output_type": "display_data"
    }
   ]
  },
  {
   "cell_type": "code",
   "outputs": [],
   "source": [],
   "metadata": {
    "collapsed": false,
    "ExecuteTime": {
     "end_time": "2024-04-18T22:03:52.110567Z",
     "start_time": "2024-04-18T22:03:52.104365Z"
    }
   },
   "id": "f8d648fdb299aa97",
   "execution_count": 115
  },
  {
   "cell_type": "code",
   "outputs": [],
   "source": [],
   "metadata": {
    "collapsed": false,
    "ExecuteTime": {
     "end_time": "2024-04-18T22:03:52.117034Z",
     "start_time": "2024-04-18T22:03:52.114031Z"
    }
   },
   "id": "9d282ee4cb69c663",
   "execution_count": 115
  }
 ],
 "metadata": {
  "kernelspec": {
   "display_name": "Python 3 (ipykernel)",
   "language": "python",
   "name": "python3"
  },
  "language_info": {
   "codemirror_mode": {
    "name": "ipython",
    "version": 3
   },
   "file_extension": ".py",
   "mimetype": "text/x-python",
   "name": "python",
   "nbconvert_exporter": "python",
   "pygments_lexer": "ipython3",
   "version": "3.11.4"
  },
  "colab": {
   "provenance": [],
   "include_colab_link": true
  }
 },
 "nbformat": 4,
 "nbformat_minor": 5
}
