{
 "cells": [
  {
   "cell_type": "code",
   "execution_count": null,
   "id": "ea5f16cf",
   "metadata": {},
   "outputs": [],
   "source": [
    "pip install scikit-learn"
   ]
  },
  {
   "cell_type": "code",
   "execution_count": null,
   "id": "74f84d2a",
   "metadata": {},
   "outputs": [],
   "source": [
    "pip install datasets"
   ]
  },
  {
   "cell_type": "code",
   "execution_count": null,
   "id": "6f7760c6",
   "metadata": {},
   "outputs": [],
   "source": [
    "#all nesseccary import statements\n",
    "from datasets import load_dataset\n",
    "import pandas as pd\n",
    "import numpy as np\n",
    "from sklearn.feature_extraction.text import CountVectorizer\n",
    "from sklearn.linear_model import LogisticRegression\n",
    "from sklearn.metrics import classification_report"
   ]
  },
  {
   "cell_type": "code",
   "execution_count": null,
   "id": "67603e72",
   "metadata": {},
   "outputs": [],
   "source": [
    "#load the dataset and split into testing and training\n",
    "dataset = load_dataset(\"yelp_review_full\")\n",
    "dp_train = dataset['train'].to_pandas()\n",
    "dp_test = dataset['test'].to_pandas()"
   ]
  },
  {
   "cell_type": "code",
   "execution_count": null,
   "id": "64fcf779",
   "metadata": {},
   "outputs": [],
   "source": [
    "dp_train"
   ]
  },
  {
   "cell_type": "code",
   "execution_count": null,
   "id": "fbfe93ce",
   "metadata": {},
   "outputs": [],
   "source": [
    "#passes in datframe column, convert's it a numpy array\n",
    "#and perfroms the bag of word algorithm on it\n",
    "#returns a sparse matrix\n",
    "def create_bag_words(df, column_text):\n",
    "    sentences = df[column_text].values\n",
    "    vectorizer = CountVectorizer()\n",
    "    \n",
    "    df = df.drop(columns=[column_text])\n",
    "\n",
    "    # fit the vocabulary to the text data\n",
    "    vectorizer.fit(sentences)\n",
    "\n",
    "    # create the bag-of-words model\n",
    "    X = vectorizer.fit_transform(sentences)\n",
    "    \n",
    "    return X\n",
    "    \n",
    "    "
   ]
  },
  {
   "cell_type": "code",
   "execution_count": null,
   "id": "57ef0f57",
   "metadata": {},
   "outputs": [],
   "source": [
    "y_train = dp_train[\"label\"].values"
   ]
  },
  {
   "cell_type": "code",
   "execution_count": null,
   "id": "ead552ea",
   "metadata": {},
   "outputs": [],
   "source": [
    "#create's a new features modified to be a bag of words\n",
    "X_fetaures = create_bag_words(dp_train, \"text\")"
   ]
  },
  {
   "cell_type": "code",
   "execution_count": null,
   "id": "614fc9ed",
   "metadata": {},
   "outputs": [],
   "source": [
    "#Peforms Logisitc Regression on the dataset\n",
    "lgr = LogisticRegression(max_iter=20000)\n",
    "lgr.fit(X_fetaures, y)"
   ]
  },
  {
   "cell_type": "code",
   "execution_count": null,
   "id": "965737e2",
   "metadata": {},
   "outputs": [],
   "source": [
    "#training on the prediction\n",
    "predict_train = lgr.predict(X_fetaures)"
   ]
  },
  {
   "cell_type": "code",
   "execution_count": null,
   "id": "79c5a1b0",
   "metadata": {},
   "outputs": [],
   "source": [
    "print(classification_report(predict_train, y_train))"
   ]
  },
  {
   "cell_type": "code",
   "execution_count": null,
   "id": "2446e8e7",
   "metadata": {},
   "outputs": [],
   "source": []
  }
 ],
 "metadata": {
  "kernelspec": {
   "display_name": "Python 3 (ipykernel)",
   "language": "python",
   "name": "python3"
  },
  "language_info": {
   "codemirror_mode": {
    "name": "ipython",
    "version": 3
   },
   "file_extension": ".py",
   "mimetype": "text/x-python",
   "name": "python",
   "nbconvert_exporter": "python",
   "pygments_lexer": "ipython3",
   "version": "3.11.4"
  }
 },
 "nbformat": 4,
 "nbformat_minor": 5
}
