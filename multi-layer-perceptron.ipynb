{
 "cells": [
  {
   "cell_type": "markdown",
   "id": "CUWhvinPcVOg",
   "metadata": {
    "id": "CUWhvinPcVOg"
   },
   "source": [
    "# Required Imports"
   ]
  },
  {
   "cell_type": "code",
   "execution_count": 1,
   "id": "9587bdf3",
   "metadata": {
    "colab": {
     "base_uri": "https://localhost:8080/"
    },
    "id": "9587bdf3",
    "outputId": "26083fef-503f-49b0-dba5-679b67c3889b"
   },
   "outputs": [
    {
     "name": "stdout",
     "output_type": "stream",
     "text": [
      "Requirement already satisfied: nltk in c:\\users\\redto\\anaconda3\\envs\\sarahs\\lib\\site-packages (3.8.1)\n",
      "Requirement already satisfied: click in c:\\users\\redto\\anaconda3\\envs\\sarahs\\lib\\site-packages (from nltk) (8.1.7)\n",
      "Requirement already satisfied: joblib in c:\\users\\redto\\anaconda3\\envs\\sarahs\\lib\\site-packages (from nltk) (1.4.0)\n",
      "Requirement already satisfied: regex>=2021.8.3 in c:\\users\\redto\\anaconda3\\envs\\sarahs\\lib\\site-packages (from nltk) (2023.10.3)\n",
      "Requirement already satisfied: tqdm in c:\\users\\redto\\anaconda3\\envs\\sarahs\\lib\\site-packages (from nltk) (4.65.0)\n",
      "Requirement already satisfied: colorama in c:\\users\\redto\\anaconda3\\envs\\sarahs\\lib\\site-packages (from click->nltk) (0.4.6)\n",
      "Note: you may need to restart the kernel to use updated packages.\n"
     ]
    }
   ],
   "source": [
    "pip install nltk"
   ]
  },
  {
   "cell_type": "code",
   "execution_count": 2,
   "id": "73e5346b",
   "metadata": {
    "colab": {
     "base_uri": "https://localhost:8080/"
    },
    "id": "73e5346b",
    "outputId": "afb17935-30f9-49d2-d96b-6c26e50e2a27"
   },
   "outputs": [
    {
     "name": "stdout",
     "output_type": "stream",
     "text": [
      "Requirement already satisfied: tensorflow in c:\\users\\redto\\anaconda3\\envs\\sarahs\\lib\\site-packages (2.10.0)\n",
      "Requirement already satisfied: absl-py>=1.0.0 in c:\\users\\redto\\anaconda3\\envs\\sarahs\\lib\\site-packages (from tensorflow) (1.4.0)\n",
      "Requirement already satisfied: astunparse>=1.6.0 in c:\\users\\redto\\anaconda3\\envs\\sarahs\\lib\\site-packages (from tensorflow) (1.6.3)\n",
      "Requirement already satisfied: flatbuffers>=2.0 in c:\\users\\redto\\anaconda3\\envs\\sarahs\\lib\\site-packages (from tensorflow) (2.0)\n",
      "Requirement already satisfied: gast<=0.4.0,>=0.2.1 in c:\\users\\redto\\anaconda3\\envs\\sarahs\\lib\\site-packages (from tensorflow) (0.4.0)\n",
      "Requirement already satisfied: google-pasta>=0.1.1 in c:\\users\\redto\\anaconda3\\envs\\sarahs\\lib\\site-packages (from tensorflow) (0.2.0)\n",
      "Requirement already satisfied: h5py>=2.9.0 in c:\\users\\redto\\anaconda3\\envs\\sarahs\\lib\\site-packages (from tensorflow) (3.9.0)\n",
      "Requirement already satisfied: keras-preprocessing>=1.1.1 in c:\\users\\redto\\anaconda3\\envs\\sarahs\\lib\\site-packages (from tensorflow) (1.1.2)\n",
      "Requirement already satisfied: libclang>=13.0.0 in c:\\users\\redto\\anaconda3\\envs\\sarahs\\lib\\site-packages (from tensorflow) (18.1.1)\n",
      "Requirement already satisfied: numpy>=1.20 in c:\\users\\redto\\anaconda3\\envs\\sarahs\\lib\\site-packages (from tensorflow) (1.26.4)\n",
      "Requirement already satisfied: opt-einsum>=2.3.2 in c:\\users\\redto\\anaconda3\\envs\\sarahs\\lib\\site-packages (from tensorflow) (3.3.0)\n",
      "Requirement already satisfied: packaging in c:\\users\\redto\\anaconda3\\envs\\sarahs\\lib\\site-packages (from tensorflow) (23.2)\n",
      "Requirement already satisfied: protobuf<3.20,>=3.9.2 in c:\\users\\redto\\anaconda3\\envs\\sarahs\\lib\\site-packages (from tensorflow) (3.19.6)\n",
      "Requirement already satisfied: setuptools in c:\\users\\redto\\anaconda3\\envs\\sarahs\\lib\\site-packages (from tensorflow) (68.2.2)\n",
      "Requirement already satisfied: six>=1.12.0 in c:\\users\\redto\\anaconda3\\envs\\sarahs\\lib\\site-packages (from tensorflow) (1.16.0)\n",
      "Requirement already satisfied: termcolor>=1.1.0 in c:\\users\\redto\\anaconda3\\envs\\sarahs\\lib\\site-packages (from tensorflow) (2.1.0)\n",
      "Requirement already satisfied: typing-extensions>=3.6.6 in c:\\users\\redto\\anaconda3\\envs\\sarahs\\lib\\site-packages (from tensorflow) (4.9.0)\n",
      "Requirement already satisfied: wrapt>=1.11.0 in c:\\users\\redto\\anaconda3\\envs\\sarahs\\lib\\site-packages (from tensorflow) (1.14.1)\n",
      "Requirement already satisfied: tensorflow-io-gcs-filesystem>=0.23.1 in c:\\users\\redto\\anaconda3\\envs\\sarahs\\lib\\site-packages (from tensorflow) (0.31.0)\n",
      "Requirement already satisfied: grpcio<2.0,>=1.24.3 in c:\\users\\redto\\anaconda3\\envs\\sarahs\\lib\\site-packages (from tensorflow) (1.48.2)\n",
      "Requirement already satisfied: tensorboard<2.11,>=2.10 in c:\\users\\redto\\anaconda3\\envs\\sarahs\\lib\\site-packages (from tensorflow) (2.10.0)\n",
      "Requirement already satisfied: tensorflow-estimator<2.11,>=2.10.0 in c:\\users\\redto\\anaconda3\\envs\\sarahs\\lib\\site-packages (from tensorflow) (2.10.0)\n",
      "Requirement already satisfied: keras<2.11,>=2.10.0 in c:\\users\\redto\\anaconda3\\envs\\sarahs\\lib\\site-packages (from tensorflow) (2.10.0)\n",
      "Requirement already satisfied: wheel<1.0,>=0.23.0 in c:\\users\\redto\\anaconda3\\envs\\sarahs\\lib\\site-packages (from astunparse>=1.6.0->tensorflow) (0.41.2)\n",
      "Requirement already satisfied: google-auth<3,>=1.6.3 in c:\\users\\redto\\anaconda3\\envs\\sarahs\\lib\\site-packages (from tensorboard<2.11,>=2.10->tensorflow) (2.6.0)\n",
      "Requirement already satisfied: google-auth-oauthlib<0.5,>=0.4.1 in c:\\users\\redto\\anaconda3\\envs\\sarahs\\lib\\site-packages (from tensorboard<2.11,>=2.10->tensorflow) (0.4.4)\n",
      "Requirement already satisfied: markdown>=2.6.8 in c:\\users\\redto\\anaconda3\\envs\\sarahs\\lib\\site-packages (from tensorboard<2.11,>=2.10->tensorflow) (3.4.1)\n",
      "Requirement already satisfied: requests<3,>=2.21.0 in c:\\users\\redto\\anaconda3\\envs\\sarahs\\lib\\site-packages (from tensorboard<2.11,>=2.10->tensorflow) (2.31.0)\n",
      "Requirement already satisfied: tensorboard-data-server<0.7.0,>=0.6.0 in c:\\users\\redto\\anaconda3\\envs\\sarahs\\lib\\site-packages (from tensorboard<2.11,>=2.10->tensorflow) (0.6.1)\n",
      "Requirement already satisfied: tensorboard-plugin-wit>=1.6.0 in c:\\users\\redto\\anaconda3\\envs\\sarahs\\lib\\site-packages (from tensorboard<2.11,>=2.10->tensorflow) (1.8.1)\n",
      "Requirement already satisfied: werkzeug>=1.0.1 in c:\\users\\redto\\anaconda3\\envs\\sarahs\\lib\\site-packages (from tensorboard<2.11,>=2.10->tensorflow) (2.3.8)\n",
      "Requirement already satisfied: cachetools<6.0,>=2.0.0 in c:\\users\\redto\\anaconda3\\envs\\sarahs\\lib\\site-packages (from google-auth<3,>=1.6.3->tensorboard<2.11,>=2.10->tensorflow) (5.3.3)\n",
      "Requirement already satisfied: pyasn1-modules>=0.2.1 in c:\\users\\redto\\anaconda3\\envs\\sarahs\\lib\\site-packages (from google-auth<3,>=1.6.3->tensorboard<2.11,>=2.10->tensorflow) (0.2.8)\n",
      "Requirement already satisfied: rsa<5,>=3.1.4 in c:\\users\\redto\\anaconda3\\envs\\sarahs\\lib\\site-packages (from google-auth<3,>=1.6.3->tensorboard<2.11,>=2.10->tensorflow) (4.7.2)\n",
      "Requirement already satisfied: requests-oauthlib>=0.7.0 in c:\\users\\redto\\anaconda3\\envs\\sarahs\\lib\\site-packages (from google-auth-oauthlib<0.5,>=0.4.1->tensorboard<2.11,>=2.10->tensorflow) (1.3.0)\n",
      "Requirement already satisfied: charset-normalizer<4,>=2 in c:\\users\\redto\\anaconda3\\envs\\sarahs\\lib\\site-packages (from requests<3,>=2.21.0->tensorboard<2.11,>=2.10->tensorflow) (2.0.4)\n",
      "Requirement already satisfied: idna<4,>=2.5 in c:\\users\\redto\\anaconda3\\envs\\sarahs\\lib\\site-packages (from requests<3,>=2.21.0->tensorboard<2.11,>=2.10->tensorflow) (3.4)\n",
      "Requirement already satisfied: urllib3<3,>=1.21.1 in c:\\users\\redto\\anaconda3\\envs\\sarahs\\lib\\site-packages (from requests<3,>=2.21.0->tensorboard<2.11,>=2.10->tensorflow) (2.1.0)\n",
      "Requirement already satisfied: certifi>=2017.4.17 in c:\\users\\redto\\anaconda3\\envs\\sarahs\\lib\\site-packages (from requests<3,>=2.21.0->tensorboard<2.11,>=2.10->tensorflow) (2024.2.2)\n",
      "Requirement already satisfied: MarkupSafe>=2.1.1 in c:\\users\\redto\\anaconda3\\envs\\sarahs\\lib\\site-packages (from werkzeug>=1.0.1->tensorboard<2.11,>=2.10->tensorflow) (2.1.3)\n",
      "Requirement already satisfied: pyasn1<0.5.0,>=0.4.6 in c:\\users\\redto\\anaconda3\\envs\\sarahs\\lib\\site-packages (from pyasn1-modules>=0.2.1->google-auth<3,>=1.6.3->tensorboard<2.11,>=2.10->tensorflow) (0.4.8)\n",
      "Requirement already satisfied: oauthlib>=3.0.0 in c:\\users\\redto\\anaconda3\\envs\\sarahs\\lib\\site-packages (from requests-oauthlib>=0.7.0->google-auth-oauthlib<0.5,>=0.4.1->tensorboard<2.11,>=2.10->tensorflow) (3.2.2)\n",
      "Note: you may need to restart the kernel to use updated packages.\n"
     ]
    }
   ],
   "source": [
    "pip install tensorflow"
   ]
  },
  {
   "cell_type": "code",
   "execution_count": 3,
   "id": "FEj1LBrvPZkA",
   "metadata": {
    "colab": {
     "base_uri": "https://localhost:8080/"
    },
    "id": "FEj1LBrvPZkA",
    "outputId": "3c575fe2-0392-4b4a-c85c-c3b4f054b35b"
   },
   "outputs": [
    {
     "name": "stdout",
     "output_type": "stream",
     "text": [
      "Requirement already satisfied: datasets in c:\\users\\redto\\anaconda3\\envs\\sarahs\\lib\\site-packages (2.19.0)\n",
      "Requirement already satisfied: filelock in c:\\users\\redto\\anaconda3\\envs\\sarahs\\lib\\site-packages (from datasets) (3.13.1)\n",
      "Requirement already satisfied: numpy>=1.17 in c:\\users\\redto\\anaconda3\\envs\\sarahs\\lib\\site-packages (from datasets) (1.26.4)\n",
      "Requirement already satisfied: pyarrow>=12.0.0 in c:\\users\\redto\\anaconda3\\envs\\sarahs\\lib\\site-packages (from datasets) (16.0.0)\n",
      "Requirement already satisfied: pyarrow-hotfix in c:\\users\\redto\\anaconda3\\envs\\sarahs\\lib\\site-packages (from datasets) (0.6)\n",
      "Requirement already satisfied: dill<0.3.9,>=0.3.0 in c:\\users\\redto\\anaconda3\\envs\\sarahs\\lib\\site-packages (from datasets) (0.3.6)\n",
      "Requirement already satisfied: pandas in c:\\users\\redto\\anaconda3\\envs\\sarahs\\lib\\site-packages (from datasets) (2.2.1)\n",
      "Requirement already satisfied: requests>=2.19.0 in c:\\users\\redto\\anaconda3\\envs\\sarahs\\lib\\site-packages (from datasets) (2.31.0)\n",
      "Requirement already satisfied: tqdm>=4.62.1 in c:\\users\\redto\\anaconda3\\envs\\sarahs\\lib\\site-packages (from datasets) (4.65.0)\n",
      "Requirement already satisfied: xxhash in c:\\users\\redto\\anaconda3\\envs\\sarahs\\lib\\site-packages (from datasets) (2.0.2)\n",
      "Requirement already satisfied: multiprocess in c:\\users\\redto\\anaconda3\\envs\\sarahs\\lib\\site-packages (from datasets) (0.70.14)\n",
      "Requirement already satisfied: fsspec<=2024.3.1,>=2023.1.0 in c:\\users\\redto\\anaconda3\\envs\\sarahs\\lib\\site-packages (from fsspec[http]<=2024.3.1,>=2023.1.0->datasets) (2023.10.0)\n",
      "Requirement already satisfied: aiohttp in c:\\users\\redto\\anaconda3\\envs\\sarahs\\lib\\site-packages (from datasets) (3.9.3)\n",
      "Requirement already satisfied: huggingface-hub>=0.21.2 in c:\\users\\redto\\anaconda3\\envs\\sarahs\\lib\\site-packages (from datasets) (0.22.2)\n",
      "Requirement already satisfied: packaging in c:\\users\\redto\\anaconda3\\envs\\sarahs\\lib\\site-packages (from datasets) (23.2)\n",
      "Requirement already satisfied: pyyaml>=5.1 in c:\\users\\redto\\anaconda3\\envs\\sarahs\\lib\\site-packages (from datasets) (6.0.1)\n",
      "Requirement already satisfied: aiosignal>=1.1.2 in c:\\users\\redto\\anaconda3\\envs\\sarahs\\lib\\site-packages (from aiohttp->datasets) (1.2.0)\n",
      "Requirement already satisfied: attrs>=17.3.0 in c:\\users\\redto\\anaconda3\\envs\\sarahs\\lib\\site-packages (from aiohttp->datasets) (23.1.0)\n",
      "Requirement already satisfied: frozenlist>=1.1.1 in c:\\users\\redto\\anaconda3\\envs\\sarahs\\lib\\site-packages (from aiohttp->datasets) (1.4.0)\n",
      "Requirement already satisfied: multidict<7.0,>=4.5 in c:\\users\\redto\\anaconda3\\envs\\sarahs\\lib\\site-packages (from aiohttp->datasets) (6.0.4)\n",
      "Requirement already satisfied: yarl<2.0,>=1.0 in c:\\users\\redto\\anaconda3\\envs\\sarahs\\lib\\site-packages (from aiohttp->datasets) (1.9.3)\n",
      "Requirement already satisfied: async-timeout<5.0,>=4.0 in c:\\users\\redto\\anaconda3\\envs\\sarahs\\lib\\site-packages (from aiohttp->datasets) (4.0.3)\n",
      "Requirement already satisfied: typing-extensions>=3.7.4.3 in c:\\users\\redto\\anaconda3\\envs\\sarahs\\lib\\site-packages (from huggingface-hub>=0.21.2->datasets) (4.9.0)\n",
      "Requirement already satisfied: charset-normalizer<4,>=2 in c:\\users\\redto\\anaconda3\\envs\\sarahs\\lib\\site-packages (from requests>=2.19.0->datasets) (2.0.4)\n",
      "Requirement already satisfied: idna<4,>=2.5 in c:\\users\\redto\\anaconda3\\envs\\sarahs\\lib\\site-packages (from requests>=2.19.0->datasets) (3.4)\n",
      "Requirement already satisfied: urllib3<3,>=1.21.1 in c:\\users\\redto\\anaconda3\\envs\\sarahs\\lib\\site-packages (from requests>=2.19.0->datasets) (2.1.0)\n",
      "Requirement already satisfied: certifi>=2017.4.17 in c:\\users\\redto\\anaconda3\\envs\\sarahs\\lib\\site-packages (from requests>=2.19.0->datasets) (2024.2.2)\n",
      "Requirement already satisfied: colorama in c:\\users\\redto\\anaconda3\\envs\\sarahs\\lib\\site-packages (from tqdm>=4.62.1->datasets) (0.4.6)\n",
      "Requirement already satisfied: python-dateutil>=2.8.2 in c:\\users\\redto\\anaconda3\\envs\\sarahs\\lib\\site-packages (from pandas->datasets) (2.8.2)\n",
      "Requirement already satisfied: pytz>=2020.1 in c:\\users\\redto\\anaconda3\\envs\\sarahs\\lib\\site-packages (from pandas->datasets) (2024.1)\n",
      "Requirement already satisfied: tzdata>=2022.7 in c:\\users\\redto\\anaconda3\\envs\\sarahs\\lib\\site-packages (from pandas->datasets) (2023.3)\n",
      "Requirement already satisfied: six>=1.5 in c:\\users\\redto\\anaconda3\\envs\\sarahs\\lib\\site-packages (from python-dateutil>=2.8.2->pandas->datasets) (1.16.0)\n",
      "Note: you may need to restart the kernel to use updated packages.\n"
     ]
    }
   ],
   "source": [
    "pip install datasets"
   ]
  },
  {
   "cell_type": "code",
   "execution_count": 4,
   "id": "734a75d6",
   "metadata": {
    "id": "734a75d6"
   },
   "outputs": [],
   "source": [
    "from datasets import load_dataset\n",
    "import pandas as pd\n",
    "import numpy as np\n",
    "import re\n",
    "import nltk\n",
    "from nltk.corpus import stopwords\n",
    "import ssl\n",
    "import tensorflow as tf\n",
    "from tensorflow.keras.preprocessing.text import Tokenizer\n",
    "from tensorflow.keras.preprocessing.sequence import pad_sequences\n",
    "from tensorflow.keras.models import Sequential\n",
    "from tensorflow.keras.layers import Flatten\n",
    "from tensorflow.keras.layers import Dense\n",
    "from tensorflow.keras.layers import Activation\n",
    "from tensorflow.keras.layers import Embedding\n",
    "from sklearn.metrics import confusion_matrix, ConfusionMatrixDisplay\n",
    "\n",
    "\n",
    "import keras\n",
    "import matplotlib.pyplot as plt\n",
    "from sklearn.model_selection import train_test_split\n",
    "import os"
   ]
  },
  {
   "cell_type": "markdown",
   "id": "6qxJHJhycZZU",
   "metadata": {
    "id": "6qxJHJhycZZU"
   },
   "source": [
    "# Preprocessing"
   ]
  },
  {
   "cell_type": "code",
   "execution_count": 5,
   "id": "4b1306b2",
   "metadata": {
    "colab": {
     "base_uri": "https://localhost:8080/"
    },
    "id": "4b1306b2",
    "outputId": "2c22df96-7631-4745-926c-36edd9d8ffc4"
   },
   "outputs": [
    {
     "name": "stderr",
     "output_type": "stream",
     "text": [
      "[nltk_data] Downloading package stopwords to\n",
      "[nltk_data]     C:\\Users\\redto\\AppData\\Roaming\\nltk_data...\n",
      "[nltk_data]   Package stopwords is already up-to-date!\n"
     ]
    },
    {
     "data": {
      "text/plain": [
       "True"
      ]
     },
     "execution_count": 5,
     "metadata": {},
     "output_type": "execute_result"
    }
   ],
   "source": [
    "# downloads the stop words\n",
    "try:\n",
    "    _create_unverified_https_context = ssl._create_unverified_context\n",
    "except AttributeError:\n",
    "    pass\n",
    "else:\n",
    "    ssl._create_default_https_context = _create_unverified_https_context\n",
    "\n",
    "nltk.download('stopwords')"
   ]
  },
  {
   "cell_type": "code",
   "execution_count": 6,
   "id": "4ae904fc-9ec8-41da-ba07-20f5bea109a8",
   "metadata": {},
   "outputs": [
    {
     "name": "stdout",
     "output_type": "stream",
     "text": [
      "Requirement already satisfied: datasets in c:\\users\\redto\\anaconda3\\envs\\sarahs\\lib\\site-packages (2.19.0)\n",
      "Requirement already satisfied: filelock in c:\\users\\redto\\anaconda3\\envs\\sarahs\\lib\\site-packages (from datasets) (3.13.1)\n",
      "Requirement already satisfied: numpy>=1.17 in c:\\users\\redto\\anaconda3\\envs\\sarahs\\lib\\site-packages (from datasets) (1.26.4)\n",
      "Requirement already satisfied: pyarrow>=12.0.0 in c:\\users\\redto\\anaconda3\\envs\\sarahs\\lib\\site-packages (from datasets) (16.0.0)\n",
      "Requirement already satisfied: pyarrow-hotfix in c:\\users\\redto\\anaconda3\\envs\\sarahs\\lib\\site-packages (from datasets) (0.6)\n",
      "Requirement already satisfied: dill<0.3.9,>=0.3.0 in c:\\users\\redto\\anaconda3\\envs\\sarahs\\lib\\site-packages (from datasets) (0.3.6)\n",
      "Requirement already satisfied: pandas in c:\\users\\redto\\anaconda3\\envs\\sarahs\\lib\\site-packages (from datasets) (2.2.1)\n",
      "Requirement already satisfied: requests>=2.19.0 in c:\\users\\redto\\anaconda3\\envs\\sarahs\\lib\\site-packages (from datasets) (2.31.0)\n",
      "Requirement already satisfied: tqdm>=4.62.1 in c:\\users\\redto\\anaconda3\\envs\\sarahs\\lib\\site-packages (from datasets) (4.65.0)\n",
      "Requirement already satisfied: xxhash in c:\\users\\redto\\anaconda3\\envs\\sarahs\\lib\\site-packages (from datasets) (2.0.2)\n",
      "Requirement already satisfied: multiprocess in c:\\users\\redto\\anaconda3\\envs\\sarahs\\lib\\site-packages (from datasets) (0.70.14)\n",
      "Requirement already satisfied: fsspec<=2024.3.1,>=2023.1.0 in c:\\users\\redto\\anaconda3\\envs\\sarahs\\lib\\site-packages (from fsspec[http]<=2024.3.1,>=2023.1.0->datasets) (2023.10.0)\n",
      "Requirement already satisfied: aiohttp in c:\\users\\redto\\anaconda3\\envs\\sarahs\\lib\\site-packages (from datasets) (3.9.3)\n",
      "Requirement already satisfied: huggingface-hub>=0.21.2 in c:\\users\\redto\\anaconda3\\envs\\sarahs\\lib\\site-packages (from datasets) (0.22.2)\n",
      "Requirement already satisfied: packaging in c:\\users\\redto\\anaconda3\\envs\\sarahs\\lib\\site-packages (from datasets) (23.2)\n",
      "Requirement already satisfied: pyyaml>=5.1 in c:\\users\\redto\\anaconda3\\envs\\sarahs\\lib\\site-packages (from datasets) (6.0.1)\n",
      "Requirement already satisfied: aiosignal>=1.1.2 in c:\\users\\redto\\anaconda3\\envs\\sarahs\\lib\\site-packages (from aiohttp->datasets) (1.2.0)\n",
      "Requirement already satisfied: attrs>=17.3.0 in c:\\users\\redto\\anaconda3\\envs\\sarahs\\lib\\site-packages (from aiohttp->datasets) (23.1.0)\n",
      "Requirement already satisfied: frozenlist>=1.1.1 in c:\\users\\redto\\anaconda3\\envs\\sarahs\\lib\\site-packages (from aiohttp->datasets) (1.4.0)\n",
      "Requirement already satisfied: multidict<7.0,>=4.5 in c:\\users\\redto\\anaconda3\\envs\\sarahs\\lib\\site-packages (from aiohttp->datasets) (6.0.4)\n",
      "Requirement already satisfied: yarl<2.0,>=1.0 in c:\\users\\redto\\anaconda3\\envs\\sarahs\\lib\\site-packages (from aiohttp->datasets) (1.9.3)\n",
      "Requirement already satisfied: async-timeout<5.0,>=4.0 in c:\\users\\redto\\anaconda3\\envs\\sarahs\\lib\\site-packages (from aiohttp->datasets) (4.0.3)\n",
      "Requirement already satisfied: typing-extensions>=3.7.4.3 in c:\\users\\redto\\anaconda3\\envs\\sarahs\\lib\\site-packages (from huggingface-hub>=0.21.2->datasets) (4.9.0)\n",
      "Requirement already satisfied: charset-normalizer<4,>=2 in c:\\users\\redto\\anaconda3\\envs\\sarahs\\lib\\site-packages (from requests>=2.19.0->datasets) (2.0.4)\n",
      "Requirement already satisfied: idna<4,>=2.5 in c:\\users\\redto\\anaconda3\\envs\\sarahs\\lib\\site-packages (from requests>=2.19.0->datasets) (3.4)\n",
      "Requirement already satisfied: urllib3<3,>=1.21.1 in c:\\users\\redto\\anaconda3\\envs\\sarahs\\lib\\site-packages (from requests>=2.19.0->datasets) (2.1.0)\n",
      "Requirement already satisfied: certifi>=2017.4.17 in c:\\users\\redto\\anaconda3\\envs\\sarahs\\lib\\site-packages (from requests>=2.19.0->datasets) (2024.2.2)\n",
      "Requirement already satisfied: colorama in c:\\users\\redto\\anaconda3\\envs\\sarahs\\lib\\site-packages (from tqdm>=4.62.1->datasets) (0.4.6)\n",
      "Requirement already satisfied: python-dateutil>=2.8.2 in c:\\users\\redto\\anaconda3\\envs\\sarahs\\lib\\site-packages (from pandas->datasets) (2.8.2)\n",
      "Requirement already satisfied: pytz>=2020.1 in c:\\users\\redto\\anaconda3\\envs\\sarahs\\lib\\site-packages (from pandas->datasets) (2024.1)\n",
      "Requirement already satisfied: tzdata>=2022.7 in c:\\users\\redto\\anaconda3\\envs\\sarahs\\lib\\site-packages (from pandas->datasets) (2023.3)\n",
      "Requirement already satisfied: six>=1.5 in c:\\users\\redto\\anaconda3\\envs\\sarahs\\lib\\site-packages (from python-dateutil>=2.8.2->pandas->datasets) (1.16.0)\n",
      "Note: you may need to restart the kernel to use updated packages.\n"
     ]
    }
   ],
   "source": [
    "pip install -U datasets"
   ]
  },
  {
   "cell_type": "code",
   "execution_count": 7,
   "id": "0c47e6ca",
   "metadata": {
    "colab": {
     "base_uri": "https://localhost:8080/",
     "height": 527
    },
    "id": "0c47e6ca",
    "outputId": "4cccb9e6-34b1-41fe-a219-993c13036a09"
   },
   "outputs": [
    {
     "data": {
      "application/vnd.jupyter.widget-view+json": {
       "model_id": "65b53995494d497a95b2aaa033e6acd8",
       "version_major": 2,
       "version_minor": 0
      },
      "text/plain": [
       "Downloading readme:   0%|          | 0.00/6.72k [00:00<?, ?B/s]"
      ]
     },
     "metadata": {},
     "output_type": "display_data"
    },
    {
     "data": {
      "application/vnd.jupyter.widget-view+json": {
       "model_id": "b7d31140211c470698c09433b9c1e6ed",
       "version_major": 2,
       "version_minor": 0
      },
      "text/plain": [
       "Downloading data:   0%|          | 0.00/299M [00:00<?, ?B/s]"
      ]
     },
     "metadata": {},
     "output_type": "display_data"
    },
    {
     "data": {
      "application/vnd.jupyter.widget-view+json": {
       "model_id": "51593308f010422db64663b9edf7acd0",
       "version_major": 2,
       "version_minor": 0
      },
      "text/plain": [
       "Downloading data:   0%|          | 0.00/23.5M [00:00<?, ?B/s]"
      ]
     },
     "metadata": {},
     "output_type": "display_data"
    },
    {
     "data": {
      "application/vnd.jupyter.widget-view+json": {
       "model_id": "abe5bf86ab2245be869a4d2bbd30eedb",
       "version_major": 2,
       "version_minor": 0
      },
      "text/plain": [
       "Generating train split:   0%|          | 0/650000 [00:00<?, ? examples/s]"
      ]
     },
     "metadata": {},
     "output_type": "display_data"
    },
    {
     "data": {
      "application/vnd.jupyter.widget-view+json": {
       "model_id": "934afb8516344346bf2b166ff4762b34",
       "version_major": 2,
       "version_minor": 0
      },
      "text/plain": [
       "Generating test split:   0%|          | 0/50000 [00:00<?, ? examples/s]"
      ]
     },
     "metadata": {},
     "output_type": "display_data"
    },
    {
     "data": {
      "text/html": [
       "<div>\n",
       "<style scoped>\n",
       "    .dataframe tbody tr th:only-of-type {\n",
       "        vertical-align: middle;\n",
       "    }\n",
       "\n",
       "    .dataframe tbody tr th {\n",
       "        vertical-align: top;\n",
       "    }\n",
       "\n",
       "    .dataframe thead th {\n",
       "        text-align: right;\n",
       "    }\n",
       "</style>\n",
       "<table border=\"1\" class=\"dataframe\">\n",
       "  <thead>\n",
       "    <tr style=\"text-align: right;\">\n",
       "      <th></th>\n",
       "      <th>label</th>\n",
       "      <th>text</th>\n",
       "    </tr>\n",
       "  </thead>\n",
       "  <tbody>\n",
       "    <tr>\n",
       "      <th>0</th>\n",
       "      <td>4</td>\n",
       "      <td>dr. goldberg offers everything i look for in a...</td>\n",
       "    </tr>\n",
       "    <tr>\n",
       "      <th>1</th>\n",
       "      <td>1</td>\n",
       "      <td>Unfortunately, the frustration of being Dr. Go...</td>\n",
       "    </tr>\n",
       "    <tr>\n",
       "      <th>2</th>\n",
       "      <td>3</td>\n",
       "      <td>Been going to Dr. Goldberg for over 10 years. ...</td>\n",
       "    </tr>\n",
       "    <tr>\n",
       "      <th>3</th>\n",
       "      <td>3</td>\n",
       "      <td>Got a letter in the mail last week that said D...</td>\n",
       "    </tr>\n",
       "    <tr>\n",
       "      <th>4</th>\n",
       "      <td>0</td>\n",
       "      <td>I don't know what Dr. Goldberg was like before...</td>\n",
       "    </tr>\n",
       "    <tr>\n",
       "      <th>...</th>\n",
       "      <td>...</td>\n",
       "      <td>...</td>\n",
       "    </tr>\n",
       "    <tr>\n",
       "      <th>649995</th>\n",
       "      <td>4</td>\n",
       "      <td>I had a sprinkler that was gushing... pipe bro...</td>\n",
       "    </tr>\n",
       "    <tr>\n",
       "      <th>649996</th>\n",
       "      <td>0</td>\n",
       "      <td>Phone calls always go to voicemail and message...</td>\n",
       "    </tr>\n",
       "    <tr>\n",
       "      <th>649997</th>\n",
       "      <td>0</td>\n",
       "      <td>Looks like all of the good reviews have gone t...</td>\n",
       "    </tr>\n",
       "    <tr>\n",
       "      <th>649998</th>\n",
       "      <td>4</td>\n",
       "      <td>I was able to once again rely on Yelp to provi...</td>\n",
       "    </tr>\n",
       "    <tr>\n",
       "      <th>649999</th>\n",
       "      <td>0</td>\n",
       "      <td>I have been using this company for 11 months. ...</td>\n",
       "    </tr>\n",
       "  </tbody>\n",
       "</table>\n",
       "<p>650000 rows × 2 columns</p>\n",
       "</div>"
      ],
      "text/plain": [
       "        label                                               text\n",
       "0           4  dr. goldberg offers everything i look for in a...\n",
       "1           1  Unfortunately, the frustration of being Dr. Go...\n",
       "2           3  Been going to Dr. Goldberg for over 10 years. ...\n",
       "3           3  Got a letter in the mail last week that said D...\n",
       "4           0  I don't know what Dr. Goldberg was like before...\n",
       "...       ...                                                ...\n",
       "649995      4  I had a sprinkler that was gushing... pipe bro...\n",
       "649996      0  Phone calls always go to voicemail and message...\n",
       "649997      0  Looks like all of the good reviews have gone t...\n",
       "649998      4  I was able to once again rely on Yelp to provi...\n",
       "649999      0  I have been using this company for 11 months. ...\n",
       "\n",
       "[650000 rows x 2 columns]"
      ]
     },
     "execution_count": 7,
     "metadata": {},
     "output_type": "execute_result"
    }
   ],
   "source": [
    "dataset = load_dataset(\"yelp_review_full\")\n",
    "dp_train = dataset['train'].to_pandas()\n",
    "dp_test = dataset['test'].to_pandas()\n",
    "dp_train"
   ]
  },
  {
   "cell_type": "code",
   "execution_count": 8,
   "id": "d33f40d6",
   "metadata": {
    "id": "d33f40d6"
   },
   "outputs": [],
   "source": [
    "# preprocesss the text data by removing stop words and leading spaces\n",
    "# this data pre-process method was inspired by: https://www.kaggle.com/code/gcdatkin/gru-hotel-rating-prediction\n",
    "\n",
    "def pre_process_data(X):\n",
    "    stop_words = stopwords.words('english')\n",
    "    X = re.sub(r'\\d+', ' ', X)\n",
    "    X = X.split()\n",
    "    X = \" \".join([word for word in X if word.lower().strip() not in stop_words])\n",
    "    return X"
   ]
  },
  {
   "cell_type": "code",
   "execution_count": 9,
   "id": "057965f4",
   "metadata": {
    "colab": {
     "base_uri": "https://localhost:8080/"
    },
    "id": "057965f4",
    "outputId": "e3e50fd9-afa5-49be-bb6f-5049a529fdfc"
   },
   "outputs": [
    {
     "data": {
      "text/plain": [
       "0         dr. goldberg offers everything look general pr...\n",
       "1         Unfortunately, frustration Dr. Goldberg's pati...\n",
       "2         going Dr. Goldberg years. think one st patient...\n",
       "3         Got letter mail last week said Dr. Goldberg mo...\n",
       "4         know Dr. Goldberg like moving Arizona, let tel...\n",
       "                                ...                        \n",
       "649995    sprinkler gushing... pipe broken way ground, t...\n",
       "649996    Phone calls always go voicemail messages retur...\n",
       "649997    Looks like good reviews gone head place! Jason...\n",
       "649998    able rely Yelp provide needed response leaking...\n",
       "649999    using company months. Ryan would come every we...\n",
       "Name: text, Length: 650000, dtype: object"
      ]
     },
     "execution_count": 9,
     "metadata": {},
     "output_type": "execute_result"
    }
   ],
   "source": [
    "reviews = dp_train['text'].apply(pre_process_data)\n",
    "reviews"
   ]
  },
  {
   "cell_type": "code",
   "execution_count": 10,
   "id": "45afc17b",
   "metadata": {
    "id": "45afc17b"
   },
   "outputs": [],
   "source": [
    "tokenizer = Tokenizer()\n",
    "tokenizer.fit_on_texts(reviews)\n",
    "\n",
    "sequences = tokenizer.texts_to_sequences(reviews)"
   ]
  },
  {
   "cell_type": "code",
   "execution_count": 11,
   "id": "f1c0b94a",
   "metadata": {
    "colab": {
     "base_uri": "https://localhost:8080/"
    },
    "id": "f1c0b94a",
    "outputId": "a527dae2-18d9-4647-fd93-326e3b088aea"
   },
   "outputs": [
    {
     "name": "stdout",
     "output_type": "stream",
     "text": [
      "The max length is  1166\n"
     ]
    }
   ],
   "source": [
    "# get the length of the largest sequnces\n",
    "max_length = np.max(list(map(lambda x: len(x), sequences)))\n",
    "\n",
    "# pads all the inputs to be the same length of the max length\n",
    "print(\"The max length is \", max_length)\n",
    "inputs = pad_sequences(sequences, maxlen=max_length, padding = 'post')\n",
    "\n",
    "labels = np.array(dp_train['label'])\n",
    "X_train, X_test, y_train, y_test = train_test_split(inputs, labels, train_size=0.80, random_state=100)"
   ]
  },
  {
   "cell_type": "markdown",
   "id": "0TqHYcT7cnpQ",
   "metadata": {
    "id": "0TqHYcT7cnpQ"
   },
   "source": [
    "# Create and Train MLP Model"
   ]
  },
  {
   "cell_type": "code",
   "execution_count": 12,
   "id": "7d8a83a8",
   "metadata": {
    "id": "7d8a83a8"
   },
   "outputs": [],
   "source": [
    "# Tensorflow mlp was inspired from their website\n",
    "# https://www.tensorflow.org/guide/core/mlp_core and #https://www.geeksforgeeks.org/multi-layer-perceptron-learning-in-tensorflow\n",
    "\n",
    "# We want to use an embedding so the neural network is better able to differniate words\n",
    "\n",
    "model = Sequential([\n",
    "    #sets the input to be the size of the text (which is the max-length)\n",
    "    Flatten(input_shape= (max_length, )),\n",
    "\n",
    "    Dense(256, activation = 'relu'),\n",
    "    Dense(256, activation = 'relu'),\n",
    "    Dense(256, activation = 'relu'),\n",
    "    Dense(256, activation = 'relu'),\n",
    "\n",
    "    #output layer\n",
    "    Dense(5, activation = 'softmax'),\n",
    "])\n",
    "\n",
    "optimizer = tf.keras.optimizers.Adam(learning_rate=0.0001)\n",
    "model.compile(optimizer = optimizer, loss = 'sparse_categorical_crossentropy', metrics=['accuracy'])"
   ]
  },
  {
   "cell_type": "code",
   "execution_count": 13,
   "id": "046d568d",
   "metadata": {
    "id": "046d568d"
   },
   "outputs": [
    {
     "name": "stdout",
     "output_type": "stream",
     "text": [
      "Epoch 1/10\n",
      "16250/16250 [==============================] - 216s 13ms/step - loss: 21.4731 - accuracy: 0.2000\n",
      "Epoch 2/10\n",
      "16250/16250 [==============================] - 221s 14ms/step - loss: 1.7506 - accuracy: 0.2054\n",
      "Epoch 3/10\n",
      "16250/16250 [==============================] - 213s 13ms/step - loss: 1.6153 - accuracy: 0.2004\n",
      "Epoch 4/10\n",
      "16250/16250 [==============================] - 217s 13ms/step - loss: 1.6096 - accuracy: 0.1992\n",
      "Epoch 5/10\n",
      "16250/16250 [==============================] - 219s 13ms/step - loss: 1.6095 - accuracy: 0.1997\n",
      "Epoch 6/10\n",
      "16250/16250 [==============================] - 223s 14ms/step - loss: 1.6095 - accuracy: 0.1999\n",
      "Epoch 7/10\n",
      "16250/16250 [==============================] - 227s 14ms/step - loss: 1.6095 - accuracy: 0.2007\n",
      "Epoch 8/10\n",
      "16250/16250 [==============================] - 227s 14ms/step - loss: 1.6097 - accuracy: 0.1991\n",
      "Epoch 9/10\n",
      "16250/16250 [==============================] - 226s 14ms/step - loss: 1.6098 - accuracy: 0.1999\n",
      "Epoch 10/10\n",
      "16250/16250 [==============================] - 227s 14ms/step - loss: 1.6101 - accuracy: 0.2005\n"
     ]
    },
    {
     "data": {
      "text/plain": [
       "<keras.callbacks.History at 0x1e90f9943a0>"
      ]
     },
     "execution_count": 13,
     "metadata": {},
     "output_type": "execute_result"
    }
   ],
   "source": [
    "model.fit(X_train, y_train, epochs = 10)"
   ]
  },
  {
   "cell_type": "code",
   "execution_count": 14,
   "id": "cc1bd94f",
   "metadata": {
    "id": "cc1bd94f"
   },
   "outputs": [
    {
     "name": "stdout",
     "output_type": "stream",
     "text": [
      "INFO:tensorflow:Assets written to: /Users/redto/Documents\\assets\n"
     ]
    }
   ],
   "source": [
    "tf.saved_model.save(model, \"/Users/redto/Documents\")"
   ]
  },
  {
   "cell_type": "markdown",
   "id": "K8E_e5BEcsfz",
   "metadata": {
    "id": "K8E_e5BEcsfz"
   },
   "source": [
    "# Evaluate Model"
   ]
  },
  {
   "cell_type": "code",
   "execution_count": 15,
   "id": "6252ee77",
   "metadata": {
    "id": "6252ee77"
   },
   "outputs": [
    {
     "data": {
      "text/plain": [
       "0        got 'new' tires within two weeks got flat. too...\n",
       "1        waste time. two different people come house gi...\n",
       "2        say worst! people place lunch, place freezing ...\n",
       "3        restaurant twice disappointed times. go back. ...\n",
       "4        Food GOOD all! husband & ate couple weeks ago ...\n",
       "                               ...                        \n",
       "49995    wanted write review chip others said. would re...\n",
       "49996    Great ambience. Great drinks. Great food. love...\n",
       "49997    Monks locations excited heard coming Sun Prair...\n",
       "49998    go here. know might want try good reviews peop...\n",
       "49999    Buffet recently open renovation husband thinki...\n",
       "Name: text, Length: 50000, dtype: object"
      ]
     },
     "execution_count": 15,
     "metadata": {},
     "output_type": "execute_result"
    }
   ],
   "source": [
    "test_reviews = dp_test['text'].apply(pre_process_data)\n",
    "test_reviews"
   ]
  },
  {
   "cell_type": "code",
   "execution_count": 19,
   "id": "085c53f6",
   "metadata": {
    "id": "085c53f6"
   },
   "outputs": [
    {
     "data": {
      "text/plain": [
       "array([[   17, 27410,  2237, ...,     0,     0,     0],\n",
       "       [  820,     8,    46, ...,     0,     0,     0],\n",
       "       [   65,   352,    28, ...,     0,     0,     0],\n",
       "       ...,\n",
       "       [29386,  1220,   641, ...,     0,     0,     0],\n",
       "       [   12,    63,    41, ...,     0,     0,     0],\n",
       "       [  235,   727,   236, ...,     0,     0,     0]])"
      ]
     },
     "execution_count": 19,
     "metadata": {},
     "output_type": "execute_result"
    }
   ],
   "source": [
    "sequences = tokenizer.texts_to_sequences(test_reviews)\n",
    "\n",
    "#max_length = np.max(list(map(lambda x: len(x), sequences)))\n",
    "#print(max_length)\n",
    "\n",
    "# pads all the inputs to be the same length of the max length\n",
    "test_inputs = pad_sequences(sequences, maxlen=1166, padding = 'post')\n",
    "test_inputs"
   ]
  },
  {
   "cell_type": "code",
   "execution_count": 20,
   "id": "f7214d26",
   "metadata": {
    "id": "f7214d26"
   },
   "outputs": [
    {
     "name": "stdout",
     "output_type": "stream",
     "text": [
      "(50000,)\n",
      "(50000, 1166)\n"
     ]
    }
   ],
   "source": [
    "y_test = np.asarray(dp_test['label'])\n",
    "print(y_test.shape)\n",
    "print(test_inputs.shape)"
   ]
  },
  {
   "cell_type": "code",
   "execution_count": 21,
   "id": "bcc0a2c3",
   "metadata": {
    "id": "bcc0a2c3"
   },
   "outputs": [
    {
     "name": "stdout",
     "output_type": "stream",
     "text": [
      "1563/1563 [==============================] - 15s 10ms/step - loss: 1.6094 - accuracy: 0.2003\n"
     ]
    }
   ],
   "source": [
    "# Evaluate already displays loss and accuracy metrics\n",
    "result = model.evaluate(test_inputs, y_test)"
   ]
  },
  {
   "cell_type": "code",
   "execution_count": 31,
   "id": "jQDBcyebbuKZ",
   "metadata": {
    "id": "jQDBcyebbuKZ"
   },
   "outputs": [
    {
     "name": "stdout",
     "output_type": "stream",
     "text": [
      "1563/1563 [==============================] - 11s 7ms/step\n"
     ]
    }
   ],
   "source": [
    "# Predict only generates class labels --> need these for accuracy and confusion matrix\n",
    "predict_test = model.predict(test_inputs)"
   ]
  },
  {
   "cell_type": "code",
   "execution_count": 23,
   "id": "c7370ba4",
   "metadata": {
    "id": "c7370ba4"
   },
   "outputs": [
    {
     "name": "stdout",
     "output_type": "stream",
     "text": [
      "Model: \"sequential\"\n",
      "_________________________________________________________________\n",
      " Layer (type)                Output Shape              Param #   \n",
      "=================================================================\n",
      " flatten (Flatten)           (None, 1166)              0         \n",
      "                                                                 \n",
      " dense (Dense)               (None, 256)               298752    \n",
      "                                                                 \n",
      " dense_1 (Dense)             (None, 256)               65792     \n",
      "                                                                 \n",
      " dense_2 (Dense)             (None, 256)               65792     \n",
      "                                                                 \n",
      " dense_3 (Dense)             (None, 256)               65792     \n",
      "                                                                 \n",
      " dense_4 (Dense)             (None, 5)                 1285      \n",
      "                                                                 \n",
      "=================================================================\n",
      "Total params: 497,413\n",
      "Trainable params: 497,413\n",
      "Non-trainable params: 0\n",
      "_________________________________________________________________\n",
      "None\n"
     ]
    }
   ],
   "source": [
    "# Shows summary of current state of model\n",
    "print(model.summary())"
   ]
  },
  {
   "cell_type": "code",
   "execution_count": 24,
   "id": "fDfHETxaa1va",
   "metadata": {
    "id": "fDfHETxaa1va"
   },
   "outputs": [
    {
     "data": {
      "text/plain": [
       "{'loss': 1.6093993186950684, 'accuracy': 0.20032000541687012}"
      ]
     },
     "execution_count": 24,
     "metadata": {},
     "output_type": "execute_result"
    }
   ],
   "source": [
    "# Displays loss and accuracy\n",
    "dict(zip(model.metrics_names, result))"
   ]
  },
  {
   "cell_type": "code",
   "execution_count": 41,
   "id": "a577TqyQbRh0",
   "metadata": {
    "id": "a577TqyQbRh0"
   },
   "outputs": [
    {
     "data": {
      "text/plain": [
       "<sklearn.metrics._plot.confusion_matrix.ConfusionMatrixDisplay at 0x1e8a0c37430>"
      ]
     },
     "execution_count": 41,
     "metadata": {},
     "output_type": "execute_result"
    },
    {
     "data": {
      "image/png": "[encoded data removed]",
      "text/plain": [
       "<Figure size 640x480 with 2 Axes>"
      ]
     },
     "metadata": {},
     "output_type": "display_data"
    }
   ],
   "source": [
    "# Displays a confusion matrix based on the predicted vs actual values\n",
    "y_prediction = np.argmax(predict_test, axis = 1)\n",
    "cm = confusion_matrix(y_test, y_prediction)\n",
    "ConfusionMatrixDisplay(cm).plot()"
   ]
  },
  {
   "cell_type": "code",
   "execution_count": 46,
   "id": "7e6a80b3-c0ba-45b0-998d-1ed005c3fad3",
   "metadata": {},
   "outputs": [
    {
     "data": {
      "text/plain": [
       "0.06761382630153404"
      ]
     },
     "execution_count": 46,
     "metadata": {},
     "output_type": "execute_result"
    }
   ],
   "source": [
    "from sklearn.metrics import f1_score\n",
    "f1_score(y_test, y_prediction, average='weighted')\n",
    "# weighted f1 score so that the support (number of instances of a class) is taken into account."
   ]
  },
  {
   "cell_type": "code",
   "execution_count": null,
   "id": "3769ce3d-8eab-4b1c-b9ae-492694e58893",
   "metadata": {},
   "outputs": [],
   "source": []
  }
 ],
 "metadata": {
  "colab": {
   "provenance": []
  },
  "kernelspec": {
   "display_name": "Python 3 (ipykernel)",
   "language": "python",
   "name": "python3"
  },
  "language_info": {
   "codemirror_mode": {
    "name": "ipython",
    "version": 3
   },
   "file_extension": ".py",
   "mimetype": "text/x-python",
   "name": "python",
   "nbconvert_exporter": "python",
   "pygments_lexer": "ipython3",
   "version": "3.10.13"
  }
 },
 "nbformat": 4,
 "nbformat_minor": 5
}
